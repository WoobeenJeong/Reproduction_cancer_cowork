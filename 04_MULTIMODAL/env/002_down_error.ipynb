{
 "cells": [
  {
   "cell_type": "code",
   "execution_count": 11,
   "metadata": {},
   "outputs": [
    {
     "name": "stdout",
     "output_type": "stream",
     "text": [
      "Number of IDs in /home/wbjeong/cancer/WSI/gdc_manifest_LUAD_diagnostic_slide.txt : 541\n",
      "All IDs have corresponding folders in /data/cancer\n"
     ]
    }
   ],
   "source": [
    "import os\n",
    "\n",
    "manifest_file = \"/home/wbjeong/cancer/WSI/gdc_manifest_LUAD_diagnostic_slide.txt\"\n",
    "data_folder = \"/data/cancer\"\n",
    "\n",
    "existing_folders = os.listdir(data_folder)\n",
    "\n",
    "existing_ids = set()\n",
    "for folder in existing_folders:\n",
    "    folder_id = folder.split(\"_\")[0]\n",
    "    existing_ids.add(folder_id)\n",
    "\n",
    "missing_ids = set()\n",
    "total = set()\n",
    "with open(manifest_file, \"r\") as f:\n",
    "    next(f)\n",
    "    for line in f:\n",
    "        id = line.split(\"\\t\")[0]\n",
    "        total.add(id)\n",
    "        if id not in existing_ids:\n",
    "            missing_ids.add(id)\n",
    "\n",
    "print(\"Number of IDs in\", manifest_file, \":\", len(total))\n",
    "\n",
    "if missing_ids:\n",
    "    print(\"Following IDs do not have corresponding folders in\", data_folder)\n",
    "    for id in missing_ids:\n",
    "        print(id)\n",
    "else:\n",
    "    print(\"All IDs have corresponding folders in\", data_folder)"
   ]
  },
  {
   "cell_type": "code",
   "execution_count": null,
   "metadata": {},
   "outputs": [],
   "source": [
    "# gdc-client download 96ede129-1397-4b5e-8be7-b7de9c808f42, 7ba6a82e-9448-451f-9e0c-c2a299b6f24c"
   ]
  },
  {
   "cell_type": "code",
   "execution_count": null,
   "metadata": {},
   "outputs": [],
   "source": [
    "import os\n",
    "import hashlib\n",
    "\n",
    "manifest_file = \"/home/wbjeong/cancer/WSI/gdc_manifest_LUAD_diagnostic_slide.txt\"\n",
    "data_folder = \"/data/CLAM/RESULTS_DIRECTORY/stitches\"\n",
    "\n",
    "filename_to_md5 = {}\n",
    "\n",
    "for filename in os.listdir(data_folder):\n",
    "    file_path = os.path.join(data_folder, filename)\n",
    "    if os.path.isfile(file_path):\n",
    "        with open(file_path, \"rb\") as f:\n",
    "            file_contents = f.read()\n",
    "            md5sum = hashlib.md5(file_contents).hexdigest()\n",
    "            filename_to_md5[filename] = md5sum\n",
    "\n",
    "count = 0\n",
    "no_match = 0\n",
    "\n",
    "with open(manifest_file, \"r\") as f:\n",
    "    next(f)\n",
    "    for line in f:\n",
    "        _, filename, md5sum, *_ = line.strip().split(\"\\t\")\n",
    "        if filename in filename_to_md5:\n",
    "            if filename_to_md5[filename] == md5sum:\n",
    "                count += 1\n",
    "                # print(f\"{filename}: MD5sum matched.\")\n",
    "            else:\n",
    "                no_match += 1\n",
    "                # print(f\"{filename}: MD5sum did not match.\")\n",
    "        else:\n",
    "            # print(f\"{filename}: File not found in the data directory.\")\n",
    "            None\n",
    "            \n",
    "print(f\"Files matched: {count}\")    \n",
    "print(f\"Files not matched: {no_match}\")"
   ]
  },
  {
   "cell_type": "code",
   "execution_count": 36,
   "metadata": {},
   "outputs": [
    {
     "name": "stdout",
     "output_type": "stream",
     "text": [
      "64cc65c6-2076-40cb-8ec7-91f29ca8cd1d\n",
      "Number of IDs in /home/wbjeong/cancer/WSI/gdc_manifest_LUAD_diagnostic_slide.txt : 541\n",
      "Following IDs do not have corresponding folders in /data/CLAM/RESULTS_DIRECTORY/masks\n",
      "TCGA-86-8076-01Z-00-DX1.e7378b2f-e20e-4d2f-a86c-3a8ead08a385\n",
      "540\n",
      "541\n",
      "set()\n"
     ]
    }
   ],
   "source": [
    "import os\n",
    "\n",
    "manifest_file = \"/home/wbjeong/cancer/WSI/gdc_manifest_LUAD_diagnostic_slide.txt\"\n",
    "data_folder = \"/data/CLAM/RESULTS_DIRECTORY/masks\"\n",
    "\n",
    "existing_names = set()\n",
    "\n",
    "for filename in os.listdir(data_folder):\n",
    "    existing_names.add(filename[:-4])\n",
    "\n",
    "missing_ids = set()\n",
    "total = set()\n",
    "with open(manifest_file, \"r\") as f:\n",
    "    next(f)\n",
    "    for line in f:\n",
    "        id = line.split(\"\\t\")[1][:-4]\n",
    "        total.add(id)\n",
    "        if id not in existing_names:\n",
    "            missing_ids.add(id)\n",
    "            print(line.split(\"\\t\")[0])\n",
    "\n",
    "print(\"Number of IDs in\", manifest_file, \":\", len(total))\n",
    "\n",
    "if missing_ids:\n",
    "    print(\"Following IDs do not have corresponding folders in\", data_folder)\n",
    "    for id in missing_ids:\n",
    "        print(id)\n",
    "else:\n",
    "    print(\"All IDs have corresponding folders in\", data_folder)\n",
    "    \n",
    "############################################################################### \n",
    "\n",
    "existings = set()\n",
    "unseen_file = set()\n",
    "with open(manifest_file, \"r\") as f:\n",
    "    next(f)\n",
    "    for line in f:\n",
    "        id = line.split(\"\\t\")[1][:-4]\n",
    "        existings.add(id) \n",
    "        \n",
    "for filename in os.listdir(data_folder):\n",
    "    if filename[:-4] not in existings:\n",
    "        unseen_file.add(filename)\n",
    "\n",
    "print(len(existing_names))\n",
    "print(len(existings))\n",
    "print(unseen_file)"
   ]
  }
 ],
 "metadata": {
  "kernelspec": {
   "display_name": "conch",
   "language": "python",
   "name": "python3"
  },
  "language_info": {
   "codemirror_mode": {
    "name": "ipython",
    "version": 3
   },
   "file_extension": ".py",
   "mimetype": "text/x-python",
   "name": "python",
   "nbconvert_exporter": "python",
   "pygments_lexer": "ipython3",
   "version": "3.10.14 | packaged by conda-forge | (main, Mar 20 2024, 12:45:18) [GCC 12.3.0]"
  },
  "orig_nbformat": 4,
  "vscode": {
   "interpreter": {
    "hash": "d2a2a4d341dc802f1ebadef26fccc8281e7efdba0c853384ce2e8369c342336d"
   }
  }
 },
 "nbformat": 4,
 "nbformat_minor": 2
}
