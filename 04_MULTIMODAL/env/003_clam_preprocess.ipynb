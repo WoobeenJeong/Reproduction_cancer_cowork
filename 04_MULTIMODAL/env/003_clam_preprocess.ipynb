{
 "cells": [
  {
   "cell_type": "code",
   "execution_count": null,
   "metadata": {},
   "outputs": [],
   "source": [
    "python create_patches_fp.py --source /data/CLAM/DATA_DIRECTORY --save_dir /data/CLAM/LUAD_RESULT --patch_size 256 --preset bwh_biopsy.csv --seg --patch --stitch"
   ]
  },
  {
   "attachments": {},
   "cell_type": "markdown",
   "metadata": {},
   "source": [
    "아래 내용을 python에서 실행하고자 함 \n",
    "\n",
    "CUDA_VISIBLE_DEVICES=0 python extract_features_fp.py \n",
    "\n",
    "--data_h5_dir /data/CLAM/LUAD_RESULT/patches \n",
    "\n",
    "--data_slide_dir /data/CLAM/DATA_DIRECTORY \n",
    "\n",
    "--csv_path /data/CLAM/LUAD_RESULT \n",
    "\n",
    "--feat_dir /data/CLAM/LUAD_RESULT \n",
    "\n",
    "--batch_size 512 --slide_ext .svs"
   ]
  },
  {
   "cell_type": "code",
   "execution_count": 7,
   "metadata": {},
   "outputs": [
    {
     "name": "stdout",
     "output_type": "stream",
     "text": [
      "0    TCGA-55-8619-01Z-00-DX1.46C7678A-6032-4C95-B53...\n",
      "1    TCGA-78-7166-01Z-00-DX1.d19ad2d9-b006-4a13-ba5...\n",
      "2    TCGA-55-1592-01Z-00-DX1.ee15e261-2f9c-4a93-a19...\n",
      "3    TCGA-49-6742-01Z-00-DX2.2c6b4df0-867d-40c5-8be...\n",
      "4    TCGA-49-6742-01Z-00-DX4.a11201e1-9eeb-40ea-9c8...\n",
      "Name: filename, dtype: object\n"
     ]
    }
   ],
   "source": [
    "### /home/wbjeong/cancer/WSI/gdc_manifest_LUAD_diagnostic_slide.txt 에서 filename 추출 (이때, .svs라는 확장자는 제거)\n",
    "\n",
    "import os\n",
    "import pandas as pd\n",
    "\n",
    "# 파일 불러오기\n",
    "df = pd.read_csv('/home/wbjeong/cancer/WSI/gdc_manifest_LUAD_diagnostic_slide.txt', sep='\\t')\n",
    "\n",
    "# .svs 확장자 제거하고 filename 추출\n",
    "df['filename'] = df['filename'].apply(lambda x: os.path.splitext(x)[0])\n",
    "print(df['filename'][:5])\n",
    "\n",
    "df.to_csv('/data/CLAM/LUAD_RESULT/names.csv', columns=['filename'], index=False, header=False)"
   ]
  },
  {
   "cell_type": "code",
   "execution_count": null,
   "metadata": {},
   "outputs": [],
   "source": [
    "### conch 환경설정 진행 -> 부족한 패키지 설치\n",
    "# python                   3.10.4\n",
    "# conch                    0.1.0\n",
    "# torch                    2.2.2\n",
    "# torch_geometric          2.5.2\n",
    "# torchvision              0.17.2\n",
    "# lifelines                0.28.0\n",
    "\n",
    "### clam.yaml을 설치 안해서 conda 이름 = conch에 설치\n",
    "\n",
    "pip install openslide-python\n"
   ]
  },
  {
   "cell_type": "code",
   "execution_count": null,
   "metadata": {},
   "outputs": [],
   "source": [
    "python extract_features_fp.py --data_h5_dir /data/CLAM/LUAD_RESULT/ --data_slide_dir /data/CLAM/DATA_DIRECTORY --csv_path /data/CLAM/LUAD_RESULT/process_list_autogen.csv --feat_dir /data/CLAM/LUAD_RESULT/FEATURE --batch_size 512 --slide_ext .svs"
   ]
  },
  {
   "cell_type": "code",
   "execution_count": null,
   "metadata": {},
   "outputs": [],
   "source": [
    "FEATURE  masks  names.csv  patches  process_list_autogen.csv  stitches"
   ]
  },
  {
   "attachments": {},
   "cell_type": "markdown",
   "metadata": {},
   "source": [
    "GPU availability (Matrox G200eW3)\n",
    "\n"
   ]
  }
 ],
 "metadata": {
  "kernelspec": {
   "display_name": "conch",
   "language": "python",
   "name": "python3"
  },
  "language_info": {
   "codemirror_mode": {
    "name": "ipython",
    "version": 3
   },
   "file_extension": ".py",
   "mimetype": "text/x-python",
   "name": "python",
   "nbconvert_exporter": "python",
   "pygments_lexer": "ipython3",
   "version": "3.10.14 | packaged by conda-forge | (main, Mar 20 2024, 12:45:18) [GCC 12.3.0]"
  },
  "orig_nbformat": 4,
  "vscode": {
   "interpreter": {
    "hash": "d2a2a4d341dc802f1ebadef26fccc8281e7efdba0c853384ce2e8369c342336d"
   }
  }
 },
 "nbformat": 4,
 "nbformat_minor": 2
}
