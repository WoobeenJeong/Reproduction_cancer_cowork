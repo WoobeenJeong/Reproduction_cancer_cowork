{
 "cells": [
  {
   "attachments": {},
   "cell_type": "markdown",
   "metadata": {},
   "source": [
    "/data/CLAM\n",
    "\n",
    "### KIRC, KIRP, GBMLGG, PAAD\n",
    "\n",
    "gdc-client download -m /home/wbjeong/cancer/WSI/gdc_manifest_PAAD_diagnostic_slides.txt -d /data/CLAM/PAAD\n",
    "\n",
    "/home/wbjeong/cancer/WSI/gdc_manifest_LUAD_diagnostic_slide.txt"
   ]
  },
  {
   "cell_type": "code",
   "execution_count": null,
   "metadata": {},
   "outputs": [],
   "source": [
    "cp -r /home/wbjeong/cancer/JJM/WSI/Data2/BLCA/* /data/CLAM/BLCA\n",
    "cp -r /home/wbjeong/cancer/JJM/WSI/Data2/KIRC/* /data/CLAM/KIRC"
   ]
  },
  {
   "cell_type": "code",
   "execution_count": 4,
   "metadata": {},
   "outputs": [
    {
     "name": "stdout",
     "output_type": "stream",
     "text": [
      "Total .svs files moved: 374\n"
     ]
    }
   ],
   "source": [
    "import os\n",
    "import shutil\n",
    "\n",
    "name = 'SKCM'\n",
    "\n",
    "dir_path = '/data/CLAM/' + name + '/'\n",
    "count = 0\n",
    "for subdir in os.listdir(dir_path):\n",
    "    subdir_path = os.path.join(dir_path, subdir)\n",
    "\n",
    "    if os.path.isdir(subdir_path):\n",
    "        for file in os.listdir(subdir_path):\n",
    "            if file.endswith('.svs'):\n",
    "                file_path = os.path.join(subdir_path, file)\n",
    "                shutil.move(file_path, dir_path)\n",
    "                count += 1\n",
    "\n",
    "print(f\"Total .svs files moved: {count}\")"
   ]
  },
  {
   "cell_type": "code",
   "execution_count": 5,
   "metadata": {},
   "outputs": [
    {
     "name": "stdout",
     "output_type": "stream",
     "text": [
      "Removed directory: 0\n",
      "Skipped file: 1\n"
     ]
    }
   ],
   "source": [
    "dir_path = '/data/CLAM/' + name + '/'\n",
    "\n",
    "for item in os.listdir(dir_path):\n",
    "    item_path = os.path.join(dir_path, item)\n",
    "    \n",
    "    dir_count = 0\n",
    "    file_count = 0\n",
    "    \n",
    "    if os.path.isdir(item_path):\n",
    "        shutil.rmtree(item_path)\n",
    "        dir_count += 1\n",
    "        \n",
    "    else:\n",
    "        file_count += 1\n",
    "        \n",
    "print(f\"Removed directory: {dir_count}\")    \n",
    "print(f\"Skipped file: {file_count}\")"
   ]
  },
  {
   "cell_type": "code",
   "execution_count": 6,
   "metadata": {},
   "outputs": [
    {
     "name": "stdout",
     "output_type": "stream",
     "text": [
      "374\n",
      "File not downloaded: 0\n",
      "File not in txt: 0\n"
     ]
    }
   ],
   "source": [
    "name = 'STAD'\n",
    "\n",
    "dirs_path = '/data/CLAM/'\n",
    "output_dir = '/home/wbjeong/cancer/WSI/'\n",
    "\n",
    "### output_dir에 있는 gdc_manifest_PAAD_diagnostic_slides.txt 의 filename 중 dir_path에 존재하지 않는 filename이 있다면 모두 출력 및 개수 출력\n",
    "\n",
    "with open('/home/wbjeong/cancer/WSI/gdc_manifest_' + name + '_diagnostic_slides.txt', 'r') as f:\n",
    "    filenames = f.readlines()\n",
    "    filenames = [filename.split('\\t')[1] for filename in filenames]\n",
    "    filenames = [filename for filename in filenames if not 'filename' in filename and not 'slide_id' in filename and not 'file_id' in filename]\n",
    "    print(len(filenames))\n",
    "    \n",
    "    txt_count = 0\n",
    "    file_count = 0\n",
    "    \n",
    "    for filename in filenames:\n",
    "        if not os.path.exists(os.path.join(dirs_path + name, filename)):\n",
    "            # print(filename)\n",
    "            txt_count += 1\n",
    "\n",
    "    for filen in os.listdir(dirs_path + name):\n",
    "        if not filen in filenames:\n",
    "            # print(filen)\n",
    "            file_count += 1\n",
    "\n",
    "print(f\"File not downloaded: {txt_count}\")\n",
    "print(f\"File not in txt: {file_count}\")"
   ]
  },
  {
   "cell_type": "code",
   "execution_count": 4,
   "metadata": {},
   "outputs": [
    {
     "name": "stderr",
     "output_type": "stream",
     "text": [
      "/home/wbjeong/.conda/envs/py37-cuda10-cudnn7/lib/python3.7/site-packages/ipykernel_launcher.py:21: FutureWarning: The default value of regex will change from True to False in a future version.\n"
     ]
    },
    {
     "name": "stdout",
     "output_type": "stream",
     "text": [
      "BLCA 437 373\n",
      "BRCA 1022 956\n",
      "COADREAD 344 340\n",
      "GBMLGG 822 569\n",
      "HNSC 437 416\n",
      "KIRC 350 345\n",
      "KIRP 284 260\n",
      "LIHC 347 333\n",
      "LUAD 515 453\n",
      "LUSC 484 450\n",
      "PAAD 180 166\n",
      "SKCM 268 230\n",
      "STAD 374 349\n",
      "UCEC 538 480\n"
     ]
    }
   ],
   "source": [
    "import os\n",
    "import pandas as pd\n",
    "\n",
    "dir = '/home/wbjeong/cancer/PORPOISE/datasets_csv_mutsig/'\n",
    "input_dir = '/home/wbjeong/cancer/WSI/gdc/'\n",
    "output_dir = '/home/wbjeong/cancer/WSI/'\n",
    "cancer_type = ['BLCA', 'BRCA', 'COADREAD', 'GBMLGG', 'HNSC', 'KIRC', 'KIRP', 'LIHC', 'LUAD', 'LUSC', 'PAAD', 'SKCM', 'STAD', 'UCEC']\n",
    "\n",
    "### 각각의 cancer_type에 대해, dir에서 tcga_ + 소문자로 바꾼 각각의 cancer_type으로 시작하는 파일을 ref로 읽어들인다.\n",
    "### 동시에, input_dir에서 gdc_manifest_ + 소문자로 바꾼 각각의 cancer_type으로 시작하는 파일을 alt로 읽어들인다.\n",
    "### 이때 alt에 filname 중 ref의 slide_id 에서 .svs를 제외한 문자열을 포함하는 filename만 남기고 나머지는 제거한다.\n",
    "### alt를 output_dir에 gdc_manifest_ + cancer_type (대문자) + _diagnostic_slides.txt로 저장한다.\n",
    "\n",
    "for cancer in cancer_type:\n",
    "    \n",
    "    ### ref는 zip 파일이므로, compression='zip'으로 읽어들인다.\n",
    "    \n",
    "    ref = pd.read_csv(dir + 'tcga_' + cancer.lower() + '_all_clean.csv.zip', compression='zip', low_memory=False)\n",
    "    alt = pd.read_csv(input_dir + 'gdc_manifest_' + cancer.lower() + '.txt', sep='\\t', low_memory=False)\n",
    "    # print(len(alt))\n",
    "    alt = alt[alt['filename'].str.contains('|'.join(ref['slide_id'].str.replace('.svs', '')))]\n",
    "    patients = len(ref['case_id'].unique())\n",
    "    \n",
    "    print(cancer, len(alt), patients)\n",
    "    \n",
    "    # alt.to_csv(output_dir + 'gdc_manifest_' + cancer + '_diagnostic_slides.txt', sep='\\t', index=False)\n",
    "    # print(cancer + ' done')"
   ]
  },
  {
   "attachments": {},
   "cell_type": "markdown",
   "metadata": {},
   "source": [
    "### 위 개수와 동일한지 확인할 것\n",
    "\n",
    "ls -l | sort | uniq | wc -l\n",
    "\n",
    "### 중간에 로딩에러로 끊긴 파일 개수 및 이름 확인\n",
    "\n",
    "find . -type f -name '*partial*' | wc -l\n",
    "\n",
    "find . -type f -name '*partial*' -exec dirname {} \\; | sort | uniq\n",
    "\n",
    "### 만약 확인된 이름이 다음과 같다면, 수동적으로 해당 파일 이름을 집어넣어서 다운로드 할 것\n",
    "\n",
    "8bad070b-5d83-4148-b773-c6f579c8bb3f\n",
    "\n",
    "gdc-client download 8bad070b-5d83-4148-b773-c6f579c8bb3f -d /data/CLAM/KIRP\n",
    "\n",
    "\n",
    "### 현재 사용 screen 근황\n",
    "\n",
    "amil : extracting (BRCA)\n",
    "filemove : patching (STAD)\n",
    "cancer : patching (LIHC)\n",
    "snn : extracting (PAAD)\n",
    "\n"
   ]
  },
  {
   "cell_type": "code",
   "execution_count": 8,
   "metadata": {},
   "outputs": [
    {
     "name": "stdout",
     "output_type": "stream",
     "text": [
      "Cancer Type: BLCA 665G\t/data/CLAM/BLCA/ 457\n",
      "Cancer Type: BRCA 983G\t/data/CLAM/BRCA/ 1022\n",
      "Cancer Type: COADREAD 221G\t/data/CLAM/COADREAD/ 344\n",
      "Cancer Type: GBMLGG 880G\t/data/CLAM/GBMLGG/ 822\n",
      "Cancer Type: HNSC 398G\t/data/CLAM/HNSC/ 437\n",
      "Cancer Type: KIRC 438G\t/data/CLAM/KIRC/ 515\n",
      "Cancer Type: KIRP 268G\t/data/CLAM/KIRP/ 284\n",
      "Cancer Type: LIHC 424G\t/data/CLAM/LIHC/ 347\n",
      "Cancer Type: LUAD 387G\t/data/CLAM/LUAD/ 541\n",
      "Cancer Type: LUSC 367G\t/data/CLAM/LUSC/ 484\n",
      "Cancer Type: PAAD 201G\t/data/CLAM/PAAD/ 180\n",
      "Cancer Type: SKCM 295G\t/data/CLAM/SKCM/ 268\n",
      "Cancer Type: STAD 302G\t/data/CLAM/STAD/ 374\n",
      "Cancer Type: UCEC 763G\t/data/CLAM/UCEC/ 538\n",
      "Total Disk Usage: 6592 , Total Number of Files: 6613\n"
     ]
    }
   ],
   "source": [
    "import subprocess\n",
    "\n",
    "cancer_types = [\n",
    "    'BLCA', 'BRCA', 'COADREAD', 'GBMLGG', 'HNSC', \n",
    "    'KIRC', 'KIRP', 'LIHC', 'LUAD', 'LUSC', \n",
    "    'PAAD', 'SKCM', 'STAD', 'UCEC'\n",
    "]\n",
    "\n",
    "base_path = '/data/CLAM/'\n",
    "\n",
    "# Function to execute a shell command and return the output\n",
    "def run_command(command):\n",
    "    result = subprocess.run(command, shell=True, capture_output=True, text=True)\n",
    "    return result.stdout.strip()\n",
    "\n",
    "sum_du = 0\n",
    "sum_ls_wc = 0\n",
    "\n",
    "for cancer in cancer_types:\n",
    "    path = base_path + cancer + '/'\n",
    "    \n",
    "    # Run 'du -h' command\n",
    "    du_command = f'du -sh {path}'\n",
    "    du_result = run_command(du_command)\n",
    "    ### 맨 뒤 G를 제거하고 int로 변환\n",
    "    sum_du += int(du_result.split()[0][:-1])\n",
    "    \n",
    "    \n",
    "    # Run 'ls -l | wc -l' command\n",
    "    ls_wc_command = f'ls -l {path} | wc -l'\n",
    "    ls_wc_result = run_command(ls_wc_command)\n",
    "    ls_wc_result = int(ls_wc_result) - 1\n",
    "    sum_ls_wc += ls_wc_result\n",
    "    \n",
    "    print(f'Cancer Type: {cancer}', du_result, ls_wc_result)\n",
    "    \n",
    "print(f'Total Disk Usage: {sum_du} , Total Number of Files: {sum_ls_wc}')"
   ]
  },
  {
   "cell_type": "code",
   "execution_count": 1,
   "metadata": {},
   "outputs": [
    {
     "name": "stdout",
     "output_type": "stream",
     "text": [
      "['tcga_blca_all_clean.csv.zip', 'tcga_brca_all_clean.csv.zip', 'tcga_coadread_all_clean.csv.zip', 'tcga_hnsc_all_clean.csv.zip', 'tcga_kirc_all_clean.csv.zip', 'tcga_kirp_all_clean.csv.zip', 'tcga_lihc_all_clean.csv.zip', 'tcga_luad_all_clean.csv.zip', 'tcga_lusc_all_clean.csv.zip', 'tcga_paad_all_clean.csv.zip', 'tcga_skcm_all_clean.csv.zip', 'tcga_stad_all_clean.csv.zip', 'tcga_ucec_all_clean.csv.zip', 'tcga_gbmlgg_all_clean.csv.zip']\n"
     ]
    }
   ],
   "source": [
    "import numpy as np\n",
    "import pandas as pd\n",
    "import os\n",
    "\n",
    "### Load the directory of the WSI data\n",
    "dir = '/home/wbjeong/cancer/PORPOISE/datasets_csv_mutsig/'\n",
    "\n",
    "### check names of the files in the directory\n",
    "files = os.listdir(dir)\n",
    "print(files)"
   ]
  },
  {
   "cell_type": "code",
   "execution_count": null,
   "metadata": {},
   "outputs": [],
   "source": [
    "# 'tcga_blca_all_clean.csv.zip' 라는 파일의 head=5\n",
    "\n",
    "### Load the data\n",
    "data = pd.read_csv(dir + 'tcga_luad_all_clean.csv.zip', compression='zip')\n",
    "print(data.head(5))\n",
    "\n",
    "### slide_id만 추출\n",
    "slide_id = data['slide_id']\n",
    "### 맨 뒤의 .svs를 제거\n",
    "slide_id = slide_id.str.replace('.svs', '')\n",
    "print(len(slide_id))\n",
    "\n",
    "move_dir = '/data/CLAM/LUAD_RESULT/FEATURE/h5_files'\n",
    "move2_dir = '/data/CLAM/LUAD_RESULT/FEATURE/pt_files'\n",
    "\n",
    "into_dir = '/data/CLAM/LUAD_RESULT/AMIL/h5_files'\n",
    "into2_dir = '/data/CLAM/LUAD_RESULT/AMIL/pt_files'\n",
    "\n",
    "# into_dir과 into2_dir 디렉토리가 없다면 생성하고, slide_id와 부분일치하는 파일을 move_dir, move2_dir에서 into_dir, into2_dir로 이동시킨다.\n",
    "if not os.path.exists(into_dir):\n",
    "    os.makedirs(into_dir)\n",
    "    \n",
    "if not os.path.exists(into2_dir):\n",
    "    os.makedirs(into2_dir)\n",
    "    \n",
    "for i in range(len(slide_id)):\n",
    "    file_name = slide_id[i]\n",
    "    print(file_name)\n",
    "    if os.path.exists(move_dir + '/' + file_name + '.h5'):\n",
    "        os.rename(move_dir + '/' + file_name + '.h5', into_dir + '/' + file_name + '.h5')\n",
    "    if os.path.exists(move2_dir + '/' + file_name + '.pt'):\n",
    "        os.rename(move2_dir + '/' + file_name + '.pt', into2_dir + '/' + file_name + '.pt')\n",
    "\n",
    "print('done')\n"
   ]
  },
  {
   "cell_type": "code",
   "execution_count": null,
   "metadata": {},
   "outputs": [],
   "source": [
    "move_final = '/home/wbjeong/cancer/PORPOISE/path/to/data_root_dir/tcga_lung_20x_features/pt_files'\n",
    "    \n",
    "### into2_dir = '/data/CLAM/LUAD_RESULT/AMIL/pt_files'에 존재하는 파일을 move_final 모두 복사\n",
    "import shutil\n",
    "import os\n",
    "\n",
    "count = 0\n",
    "for filename in os.listdir(into2_dir):\n",
    "    source_file = os.path.join(into2_dir, filename)\n",
    "    destination_file = os.path.join(move_final, filename)\n",
    "    \n",
    "    if os.path.isfile(source_file):\n",
    "        shutil.copy2(source_file, destination_file)\n",
    "        count += 1\n",
    "        \n",
    "print(count)"
   ]
  },
  {
   "cell_type": "code",
   "execution_count": null,
   "metadata": {},
   "outputs": [],
   "source": [
    "dd = 'TCGA-86-8076-01Z-00-DX1.e7378b2f-e20e-4d2f-a86c-3a8ead08a385'\n",
    "\n",
    "### dd가 slide_id에 있는지 확인\n",
    "\n",
    "if dd in slide_id:\n",
    "    print('yes')\n",
    "else:\n",
    "    print('no')\n",
    "    \n",
    "## python main.py --which_splits 5foldcv --split_dir tcga_luad --mode path --model_type porpoise_amil"
   ]
  },
  {
   "cell_type": "code",
   "execution_count": null,
   "metadata": {},
   "outputs": [],
   "source": [
    "files = os.listdir(dir)\n",
    "files = [file for file in files if file.endswith('.zip')]\n",
    "\n",
    "out_dir = '/data/Cancer/'\n",
    "\n",
    "file_count_df = pd.DataFrame(columns=['slide_id', 'count'])\n",
    "\n",
    "for file in files:\n",
    "    df = pd.read_csv(dir + file, compression='zip', low_memory=False, dtype={'slide_id': str})\n",
    "    slide_id = file.split('_')[1]\n",
    "    name = 'tcga_' + slide_id + '_name.txt'\n",
    "    # print(name)\n",
    "    # print(df.shape[0])\n",
    "    file_count_df = file_count_df.append({'slide_id': slide_id, 'count': df.shape[0]}, ignore_index=True)\n",
    "    \n",
    "    # df.to_csv(out_dir + name, sep='\\t', index=False)\n",
    "\n",
    "file_count_df = file_count_df.T\n",
    "file_count_df.columns = file_count_df.iloc[0]\n",
    "file_count_df['total'] = file_count_df.sum(axis=1) \n",
    "file_count_df = file_count_df.drop(file_count_df.index[0])\n",
    "print(file_count_df)\n"
   ]
  },
  {
   "cell_type": "code",
   "execution_count": null,
   "metadata": {},
   "outputs": [],
   "source": [
    "input_dir = '/home/wbjeong/cancer/WSI/gdc/'\n",
    "\n",
    "### 해당 디렉토리의 모든 txt 파일을 하나로 합치고, 이때 header는 맨 처음에만 존재하도록 한다.\n",
    "all_tcga = pd.DataFrame()\n",
    "\n",
    "for file in os.listdir(input_dir):\n",
    "    if file.endswith('.txt'):\n",
    "        df = pd.read_csv(input_dir + file, sep='\\t', low_memory=False)\n",
    "        all_tcga = all_tcga.append(df, ignore_index=True)\n",
    "\n",
    "print(all_tcga.shape)\n",
    "\n",
    "exists = pd.DataFrame(columns=['slide_id', 'gdc_count'])\n",
    "\n",
    "for file in files:\n",
    "    df = pd.read_csv(dir + file, compression='zip', low_memory=False, dtype={'slide_id': str})\n",
    "    slide_id = file.split('_')[1]\n",
    "    \n",
    "    count = 0\n",
    "    for i in range(df.shape[0]):\n",
    "        id = df.iloc[i]['slide_id']\n",
    "        # id = id.split('.')[0] + '.' + id.split('.')[1].lower() + '.' + id.split('.')[2]\n",
    "        \n",
    "        if id in all_tcga['filename'].values:\n",
    "            count += 1\n",
    "    \n",
    "    exists = exists.append({'slide_id': slide_id, 'gdc_count': count}, ignore_index=True)\n",
    "    \n",
    "print(exists)\n"
   ]
  },
  {
   "cell_type": "code",
   "execution_count": null,
   "metadata": {},
   "outputs": [],
   "source": [
    "dirr = '/data/CLAM/'\n",
    "\n",
    "for cancer in cancer_type:\n",
    "    os.mkdir(dirr + cancer)"
   ]
  },
  {
   "cell_type": "code",
   "execution_count": null,
   "metadata": {},
   "outputs": [],
   "source": [
    "data = pd.read_csv(dir + 'tcga_gbmlgg_all_clean.csv.zip', compression='zip')\n",
    "\n",
    "# all_tcga의 filename중 data에 있는 slide_id와 일치하는 것의 개수\n",
    "\n",
    "count = 0\n",
    "for i in range(data.shape[0]):\n",
    "    id = data.iloc[i]['slide_id']\n",
    "    if id in all_tcga['filename'].values:\n",
    "        count += 1\n",
    "\n",
    "print(count)\n",
    "\n",
    "data_trimed = pd.DataFrame(columns=data.columns)\n",
    "for i in range(data.shape[0]):\n",
    "    id = data.iloc[i]['slide_id']\n",
    "    if id in all_tcga['filename'].values:\n",
    "        data_trimed = data_trimed.append(data.iloc[i], ignore_index=True)\n",
    "\n",
    "print(len(data_trimed))\n",
    "\n",
    "### data_trimed를 csv로 저장\n",
    "data_trimed.to_csv(dir + 'tcga_new_gbmlgg_all_clean_trimed.csv', index=False)"
   ]
  },
  {
   "cell_type": "code",
   "execution_count": null,
   "metadata": {},
   "outputs": [],
   "source": [
    "dir2 = '/home/wbjeong/cancer/WSI/'\n",
    "\n",
    "all_tcga = pd.DataFrame()\n",
    "\n",
    "for file in os.listdir(input_dir):\n",
    "    if file.endswith('.txt'):\n",
    "        df = pd.read_csv(input_dir + file, sep='\\t', low_memory=False)\n",
    "        all_tcga = all_tcga.append(df, ignore_index=True)\n",
    "\n",
    "total_id_list = []\n",
    "\n",
    "for file in files:\n",
    "    df = pd.read_csv(dir + file, compression='zip', low_memory=False, dtype={'slide_id': str})\n",
    "    slide_id = file.split('_')[1]\n",
    "\n",
    "    for i in range(df.shape[0]):\n",
    "        id = df.iloc[i]['slide_id']\n",
    "        total_id_list.append(id)\n",
    "        \n",
    "print(len(total_id_list))\n",
    "\n",
    "zip tcga_gbmlgg_all_clean.csv.zip tcga_gbmlgg_all_clean.csv"
   ]
  }
 ],
 "metadata": {
  "kernelspec": {
   "display_name": "py37-cuda10-cudnn7",
   "language": "python",
   "name": "python3"
  },
  "language_info": {
   "codemirror_mode": {
    "name": "ipython",
    "version": 3
   },
   "file_extension": ".py",
   "mimetype": "text/x-python",
   "name": "python",
   "nbconvert_exporter": "python",
   "pygments_lexer": "ipython3",
   "version": "3.7.16"
  },
  "orig_nbformat": 4,
  "vscode": {
   "interpreter": {
    "hash": "c30d6ca11f8a8662b0d6d84f1ef7601dceebe0661188fcc86d2a0bfd1e940d8b"
   }
  }
 },
 "nbformat": 4,
 "nbformat_minor": 2
}
