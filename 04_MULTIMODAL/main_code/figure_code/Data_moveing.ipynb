{
 "cells": [
  {
   "cell_type": "code",
   "execution_count": 5,
   "metadata": {},
   "outputs": [],
   "source": [
    "import pandas as pd\n",
    "import os\n",
    "import shutil"
   ]
  },
  {
   "cell_type": "code",
   "execution_count": 4,
   "metadata": {},
   "outputs": [],
   "source": [
    "parent_folder = '/home/wbjeong/cancer/JJM/WSI/Data/BLCA/'\n",
    "\n",
    "# A 폴더 내 모든 하위 폴더를 대상으로 반복\n",
    "for subdir, dirs, files in os.walk(parent_folder):\n",
    "    for file in files:\n",
    "        # 파일 확장자가 .svs인 경우에만 처리\n",
    "        if file.endswith('.svs'):\n",
    "            original_path = os.path.join(subdir, file)\n",
    "            destination_path = os.path.join('/home/wbjeong/cancer/JJM/WSI/Data2/BLCA//', file)\n",
    "            shutil.move(original_path, destination_path)"
   ]
  },
  {
   "cell_type": "code",
   "execution_count": null,
   "metadata": {},
   "outputs": [],
   "source": []
  },
  {
   "cell_type": "code",
   "execution_count": 3,
   "metadata": {},
   "outputs": [],
   "source": [
    "parent_folder = '/home/wbjeong/cancer/JJM/WSI/Data/KIRC/'\n",
    "\n",
    "# A 폴더 내 모든 하위 폴더를 대상으로 반복\n",
    "for subdir, dirs, files in os.walk(parent_folder):\n",
    "    for file in files:\n",
    "        # 파일 확장자가 .svs인 경우에만 처리\n",
    "        if file.endswith('.svs'):\n",
    "            original_path = os.path.join(subdir, file)\n",
    "            destination_path = os.path.join('/home/wbjeong/cancer/JJM/WSI/Data2/KIRC/', file)\n",
    "            shutil.move(original_path, destination_path)"
   ]
  },
  {
   "cell_type": "code",
   "execution_count": null,
   "metadata": {},
   "outputs": [],
   "source": [
    "python /home/wbjeong/cancer/CLAM/create_patches_fp.py --source //home/wbjeong/cancer/JJM/WSI/Data2/BLCA/ --save_dir //home/wbjeong/cancer/JJM/WSI/Data3/BLCA/ --patch_size 256 --seg --patch --stitch "
   ]
  },
  {
   "cell_type": "code",
   "execution_count": null,
   "metadata": {},
   "outputs": [],
   "source": [
    "python /home/wbjeong/cancer/CLAM/create_patches_fp.py --source //home/wbjeong/cancer/JJM/WSI/Data2/BLCA/ --save_dir //home/wbjeong/cancer/JJM/WSI/Data3/BLCA/ --patch_size 256 --seg --patch --stitch "
   ]
  },
  {
   "cell_type": "code",
   "execution_count": null,
   "metadata": {},
   "outputs": [],
   "source": [
    "pd.read_csv('/home/wbjeong/cancer/JJM/metadata/omics.csv')"
   ]
  }
 ],
 "metadata": {
  "kernelspec": {
   "display_name": "conch",
   "language": "python",
   "name": "python3"
  },
  "language_info": {
   "codemirror_mode": {
    "name": "ipython",
    "version": 3
   },
   "file_extension": ".py",
   "mimetype": "text/x-python",
   "name": "python",
   "nbconvert_exporter": "python",
   "pygments_lexer": "ipython3",
   "version": "3.7.16"
  }
 },
 "nbformat": 4,
 "nbformat_minor": 2
}
