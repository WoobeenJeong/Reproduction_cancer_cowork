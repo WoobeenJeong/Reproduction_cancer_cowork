{
 "cells": [
  {
   "cell_type": "code",
   "execution_count": null,
   "metadata": {},
   "outputs": [],
   "source": [
    "python main.py --which_splits /home/wbjeong/cancer/JJM/code/datasets_csv_mutsi/ --split_dir //home/wbjeong/cancer/JJM/code/splits/5foldcv/tcga_blca --mode omic --model_type snn --apply_sig 1\n"
   ]
  },
  {
   "cell_type": "code",
   "execution_count": null,
   "metadata": {},
   "outputs": [],
   "source": [
    "cd /home/wbjeong/cancer/JJM/code"
   ]
  },
  {
   "cell_type": "code",
   "execution_count": null,
   "metadata": {},
   "outputs": [],
   "source": [
    "python main.py --which_splits /home/wbjeong/cancer/JJM/code/datasets_csv_mutsig/ --split_dir //home/wbjeong/cancer/JJM/code/splits/5foldcv/tcga_kirc --mode omic --model_type snn --apply_sig\n"
   ]
  },
  {
   "cell_type": "code",
   "execution_count": null,
   "metadata": {},
   "outputs": [],
   "source": [
    "python eval_surv.py --which_splits /home/wbjeong/cancer/JJM/code/datasets_csv_mutsig/ --split_dir //home/wbjeong/cancer/JJM/code/splits/5foldcv/tcga_blca --mode omic --reg_type omic --model_type snn --task tcga_blca_survival\n",
    "python eval_surv.py --which_splits /home/wbjeong/cancer/JJM/code/datasets_csv_mutsig/ --split_dir //home/wbjeong/cancer/JJM/code/splits/5foldcv/tcga_kirc --mode omic --reg_type omic --model_type snn --task tcga_kirc_survival"
   ]
  },
  {
   "cell_type": "code",
   "execution_count": null,
   "metadata": {},
   "outputs": [],
   "source": [
    "python main.py --which_splits /home/wbjeong/cancer/JJM/code/datasets_csv_mutsig/ --split_dir /home/wbjeong/cancer/JJM/code/splits/5foldcv/tcga_kirc --mode path --model_type attention_mil"
   ]
  },
  {
   "cell_type": "code",
   "execution_count": null,
   "metadata": {},
   "outputs": [],
   "source": [
    "python main.py --which_splits /home/wbjeong/cancer/JJM/code/datasets_csv_mutsi/ --split_dir //home/wbjeong/cancer/JJM/code/splits/5foldcv/tcga_blca --mode omic --model_type snn --apply_sig 1\n"
   ]
  },
  {
   "cell_type": "markdown",
   "metadata": {},
   "source": [
    "# Attention_modeal"
   ]
  },
  {
   "cell_type": "markdown",
   "metadata": {},
   "source": [
    "python main.py --which_splits /home/wbjeong/cancer/JJM/code/datasets_csv_mutsig/ --split_dir /home/wbjeong/cancer/JJM/code/splits/5foldcv/tcga_kirc --mode path --model_type attention_mil"
   ]
  }
 ],
 "metadata": {
  "language_info": {
   "name": "python"
  }
 },
 "nbformat": 4,
 "nbformat_minor": 2
}
