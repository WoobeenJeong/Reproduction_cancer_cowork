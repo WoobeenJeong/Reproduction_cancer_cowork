{
 "cells": [
  {
   "cell_type": "code",
   "execution_count": null,
   "metadata": {},
   "outputs": [],
   "source": [
    "import seaborn as sns\n",
    "import matplotlib.pyplot as plt\n",
    "from statannot import add_stat_annotation\n",
    "import pandas as pd\n",
    "import numpy as np"
   ]
  },
  {
   "cell_type": "code",
   "execution_count": 4,
   "metadata": {},
   "outputs": [],
   "source": [
    "\\cancer ='BLCA'"
   ]
  },
  {
   "cell_type": "code",
   "execution_count": 5,
   "metadata": {},
   "outputs": [],
   "source": [
    "A=pd.read_csv('/home/wbjeong/cancer/JJM/results/SNN/BLCA/summary.csv')\n",
    "B=pd.read_csv('/home/wbjeong/cancer/JJM/results/WSI/BLCA/summary.csv')\n",
    "C=pd.read_csv('/home/wbjeong/cancer/JJM/results/MMF/BLCA/summary.csv')"
   ]
  },
  {
   "cell_type": "code",
   "execution_count": 33,
   "metadata": {},
   "outputs": [],
   "source": [
    "\n",
    "my_pal = {\"SNN\":'green','AMIL':'orange','MMF':'purple'}"
   ]
  },
  {
   "cell_type": "code",
   "execution_count": 15,
   "metadata": {},
   "outputs": [],
   "source": [
    "df=np.transpose(pd.DataFrame([A.iloc[:,-1],B.iloc[:,-1],B.iloc[:,-1]]))\n",
    "df.columns=['SNN','AMIL','MMF']"
   ]
  },
  {
   "cell_type": "code",
   "execution_count": 28,
   "metadata": {},
   "outputs": [],
   "source": [
    "df=pd.DataFrame(pd.concat([A.iloc[:,-1],B.iloc[:,-1],B.iloc[:,-1]]))\n",
    "df.columns=['Concordance Index']\n",
    "a_list=['SNN']*5+['AMIL']*5+['MMF']*5"
   ]
  },
  {
   "cell_type": "code",
   "execution_count": 29,
   "metadata": {},
   "outputs": [],
   "source": [
    "df['method']=a_list"
   ]
  },
  {
   "cell_type": "code",
   "execution_count": 35,
   "metadata": {},
   "outputs": [
    {
     "data": {
      "text/html": [
       "<div>\n",
       "<style scoped>\n",
       "    .dataframe tbody tr th:only-of-type {\n",
       "        vertical-align: middle;\n",
       "    }\n",
       "\n",
       "    .dataframe tbody tr th {\n",
       "        vertical-align: top;\n",
       "    }\n",
       "\n",
       "    .dataframe thead th {\n",
       "        text-align: right;\n",
       "    }\n",
       "</style>\n",
       "<table border=\"1\" class=\"dataframe\">\n",
       "  <thead>\n",
       "    <tr style=\"text-align: right;\">\n",
       "      <th></th>\n",
       "      <th>Concordance Index</th>\n",
       "      <th>method</th>\n",
       "    </tr>\n",
       "  </thead>\n",
       "  <tbody>\n",
       "    <tr>\n",
       "      <th>0</th>\n",
       "      <td>0.545516</td>\n",
       "      <td>SNN</td>\n",
       "    </tr>\n",
       "    <tr>\n",
       "      <th>1</th>\n",
       "      <td>0.578062</td>\n",
       "      <td>SNN</td>\n",
       "    </tr>\n",
       "    <tr>\n",
       "      <th>2</th>\n",
       "      <td>0.616065</td>\n",
       "      <td>SNN</td>\n",
       "    </tr>\n",
       "    <tr>\n",
       "      <th>3</th>\n",
       "      <td>0.592763</td>\n",
       "      <td>SNN</td>\n",
       "    </tr>\n",
       "    <tr>\n",
       "      <th>4</th>\n",
       "      <td>0.582985</td>\n",
       "      <td>SNN</td>\n",
       "    </tr>\n",
       "    <tr>\n",
       "      <th>0</th>\n",
       "      <td>0.583951</td>\n",
       "      <td>AMIL</td>\n",
       "    </tr>\n",
       "    <tr>\n",
       "      <th>1</th>\n",
       "      <td>0.513459</td>\n",
       "      <td>AMIL</td>\n",
       "    </tr>\n",
       "    <tr>\n",
       "      <th>2</th>\n",
       "      <td>0.546630</td>\n",
       "      <td>AMIL</td>\n",
       "    </tr>\n",
       "    <tr>\n",
       "      <th>3</th>\n",
       "      <td>0.508553</td>\n",
       "      <td>AMIL</td>\n",
       "    </tr>\n",
       "    <tr>\n",
       "      <th>4</th>\n",
       "      <td>0.608787</td>\n",
       "      <td>AMIL</td>\n",
       "    </tr>\n",
       "    <tr>\n",
       "      <th>0</th>\n",
       "      <td>0.583951</td>\n",
       "      <td>MMF</td>\n",
       "    </tr>\n",
       "    <tr>\n",
       "      <th>1</th>\n",
       "      <td>0.513459</td>\n",
       "      <td>MMF</td>\n",
       "    </tr>\n",
       "    <tr>\n",
       "      <th>2</th>\n",
       "      <td>0.546630</td>\n",
       "      <td>MMF</td>\n",
       "    </tr>\n",
       "    <tr>\n",
       "      <th>3</th>\n",
       "      <td>0.508553</td>\n",
       "      <td>MMF</td>\n",
       "    </tr>\n",
       "    <tr>\n",
       "      <th>4</th>\n",
       "      <td>0.608787</td>\n",
       "      <td>MMF</td>\n",
       "    </tr>\n",
       "  </tbody>\n",
       "</table>\n",
       "</div>"
      ],
      "text/plain": [
       "   Concordance Index method\n",
       "0           0.545516    SNN\n",
       "1           0.578062    SNN\n",
       "2           0.616065    SNN\n",
       "3           0.592763    SNN\n",
       "4           0.582985    SNN\n",
       "0           0.583951   AMIL\n",
       "1           0.513459   AMIL\n",
       "2           0.546630   AMIL\n",
       "3           0.508553   AMIL\n",
       "4           0.608787   AMIL\n",
       "0           0.583951    MMF\n",
       "1           0.513459    MMF\n",
       "2           0.546630    MMF\n",
       "3           0.508553    MMF\n",
       "4           0.608787    MMF"
      ]
     },
     "execution_count": 35,
     "metadata": {},
     "output_type": "execute_result"
    }
   ],
   "source": [
    "df"
   ]
  },
  {
   "cell_type": "code",
   "execution_count": 40,
   "metadata": {},
   "outputs": [
    {
     "name": "stderr",
     "output_type": "stream",
     "text": [
      "No artists with labels found to put in legend.  Note that artists whose label start with an underscore are ignored when legend() is called with no argument.\n"
     ]
    },
    {
     "data": {
      "image/png": "[encoded data removed]",
      "text/plain": [
       "<Figure size 1200x800 with 1 Axes>"
      ]
     },
     "metadata": {},
     "output_type": "display_data"
    }
   ],
   "source": [
    "plt.figure(figsize=(12,8))\n",
    "my_pal = {\"SNN\":'green','AMIL':'orangered','MMF':'skyblue'}\n",
    "ax = sns.boxplot(y='Concordance Index',x='method',data=df,showfliers=True,palette=my_pal)\n",
    "plt.legend(loc='upper left', bbox_to_anchor=(1.03, 1))\n",
    "plt.ylim(0.4,1.0)\n",
    "plt.savefig('/home/wbjeong/cancer/JJM/figures/BLCA/boxplot.pdf',bbox_inches=\"tight\")"
   ]
  },
  {
   "cell_type": "code",
   "execution_count": null,
   "metadata": {},
   "outputs": [],
   "source": [
    "plt.figure(figsize=(12,8))\n",
    "\n",
    "hue_order=['kmeans_ARI','hierarchical_ARI']\n",
    "box_pairs=[\n",
    "    #((\"NMF\", \"kmeans_ARI\"), (\"PCA\", \"kmeans_ARI\")),\n",
    "    #((\"NMF\", \"kmeans_ARI\"), (\"noisyR\", \"kmeans_ARI\")),\n",
    "    ((\"NMF\", \"kmeans_ARI\"), (\"full_genes\", \"kmeans_ARI\")),\n",
    "    #((\"PCA\", \"kmeans_ARI\"), (\"noisyR\", \"kmeans_ARI\")),\n",
    "    ((\"PCA\", \"kmeans_ARI\"), (\"full_genes\", \"kmeans_ARI\")),\n",
    "    #((\"noisyR\", \"kmeans_ARI\"), (\"full_genes\", \"kmeans_ARI\")),\n",
    "    #((\"NMF\", \"hierarchical_ARI\"), (\"PCA\", \"hierarchical_ARI\")),\n",
    "    #((\"NMF\", \"hierarchical_ARI\"), (\"noisyR\", \"hierarchical_ARI\")),\n",
    "    ((\"NMF\", \"hierarchical_ARI\"), (\"full_genes\", \"hierarchical_ARI\")),\n",
    "    #((\"PCA\", \"hierarchical_ARI\"), (\"noisyR\", \"hierarchical_ARI\")),\n",
    "    ((\"PCA\", \"hierarchical_ARI\"), (\"full_genes\", \"hierarchical_ARI\")),\n",
    "    ((\"noisyR\", \"hierarchical_ARI\"), (\"full_genes\", \"hierarchical_ARI\")),\n",
    "    \n",
    "    ]\n",
    "ax = sns.boxplot(y='ARI',x='method',hue='score',data=ARI,showfliers=False)\n",
    "add_stat_annotation(ax, data=ARI, x='method', y='ARI', hue='score', box_pairs=box_pairs,\n",
    "                    test='Mann-Whitney', loc='outside', verbose=2)\n",
    "\n",
    "plt.legend(loc='upper left', bbox_to_anchor=(1.03, 1))"
   ]
  }
 ],
 "metadata": {
  "kernelspec": {
   "display_name": "py37",
   "language": "python",
   "name": "python3"
  },
  "language_info": {
   "codemirror_mode": {
    "name": "ipython",
    "version": 3
   },
   "file_extension": ".py",
   "mimetype": "text/x-python",
   "name": "python",
   "nbconvert_exporter": "python",
   "pygments_lexer": "ipython3",
   "version": "3.7.16"
  }
 },
 "nbformat": 4,
 "nbformat_minor": 2
}
