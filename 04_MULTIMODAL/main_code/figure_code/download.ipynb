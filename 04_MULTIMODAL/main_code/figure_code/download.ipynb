{
 "cells": [
  {
   "cell_type": "code",
   "execution_count": null,
   "metadata": {},
   "outputs": [],
   "source": [
    "./gdc-client downlaod -m '/home/wbjeong/cancer/JJM/WSI/text/BLCA.txt' -d \"/home/wbjeong/cancer/JJM/WSI/Data/\n",
    "./gdc-client download -m '/home/wbjeong/cancer/JJM/WSI/text/KIRC.txt' -d \"/home/wbjeong/cancer/JJM/WSI/Data/KIRC/\""
   ]
  },
  {
   "cell_type": "code",
   "execution_count": null,
   "metadata": {},
   "outputs": [],
   "source": [
    "conda activate conch\n",
    "cd /home/wbjeong/cancer/CLAM"
   ]
  },
  {
   "cell_type": "code",
   "execution_count": 2,
   "metadata": {},
   "outputs": [
    {
     "ename": "SyntaxError",
     "evalue": "invalid syntax (142263799.py, line 1)",
     "output_type": "error",
     "traceback": [
      "\u001b[0;36m  File \u001b[0;32m\"/tmp/ipykernel_3129176/142263799.py\"\u001b[0;36m, line \u001b[0;32m1\u001b[0m\n\u001b[0;31m    pandas as pd\u001b[0m\n\u001b[0m            ^\u001b[0m\n\u001b[0;31mSyntaxError\u001b[0m\u001b[0;31m:\u001b[0m invalid syntax\n"
     ]
    }
   ],
   "source": [
    "pandas as pd"
   ]
  },
  {
   "cell_type": "code",
   "execution_count": null,
   "metadata": {},
   "outputs": [],
   "source": [
    "./gdc-client downlaod -m '/home/wbjeong/cancer/JJM/A/gdc_manifest.2024-05-29.txt' -d \"/home/wbjeong/cancer/JJM/A/A/\""
   ]
  },
  {
   "cell_type": "code",
   "execution_count": null,
   "metadata": {},
   "outputs": [],
   "source": [
    "./gdc-client downlaod -m '/home/wbjeong/cancer/JJM/WSI/text/BLCA.txt' -d \"/home/wbjeong/cancer/JJM/WSI/Data/BLCA/\"\n",
    "python create_patches_fp.py --source /mnt/d/study/Data/BRCA1/ --save_dir /mnt/d/Processed/BRCA/ --patch_size 256 --seg --patch --stitch \n",
    "CUDA_VISIBLE_DEVICES=0 python extract_features_fp.py --data_h5_dir /mnt/d/Processed/BRCA/ --data_slide_dir /mnt/d/study/Data/BRCA1 --csv_path /mnt/d/Processed/BRCA/process_list_autogen.csv --feat_dir /mnt/d/feature/ --batch_size 512 --slide_ext .svs\n",
    "https://github.com/microsoft/vcpkg/issues/22074#event-10390605351"
   ]
  },
  {
   "cell_type": "code",
   "execution_count": null,
   "metadata": {},
   "outputs": [],
   "source": [
    "cd /home/wbjeong/cancer/CLAM"
   ]
  },
  {
   "cell_type": "code",
   "execution_count": null,
   "metadata": {},
   "outputs": [],
   "source": [
    "CUDA_VISIBLE_DEVICES=0 python extract_features_fp.py --data_h5_dir //home/wbjeong/cancer/JJM/WSI/Data3/BLCA/ --data_slide_dir //home/wbjeong/cancer/JJM/WSI/Data2/BLCA/ --csv_path /home/wbjeong/cancer/JJM/WSI/Data3/BLCA/process_list_autogen.csv --feat_dir //home/wbjeong/cancer/JJM/WSI/Data4/BLCA/ --batch_size 512 --slide_ext .svs"
   ]
  }
 ],
 "metadata": {
  "kernelspec": {
   "display_name": "py37",
   "language": "python",
   "name": "python3"
  },
  "language_info": {
   "codemirror_mode": {
    "name": "ipython",
    "version": 3
   },
   "file_extension": ".py",
   "mimetype": "text/x-python",
   "name": "python",
   "nbconvert_exporter": "python",
   "pygments_lexer": "ipython3",
   "version": "3.7.16"
  }
 },
 "nbformat": 4,
 "nbformat_minor": 2
}
