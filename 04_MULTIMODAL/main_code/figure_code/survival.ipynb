{
 "cells": [
  {
   "cell_type": "code",
   "execution_count": 20,
   "metadata": {},
   "outputs": [],
   "source": [
    "\n",
    "import pandas as pd\n",
    "import numpy as np\n",
    "import matplotlib.pyplot as plt\n",
    "import seaborn as sns\n",
    "import statistics\n",
    "from sklearn.impute import SimpleImputer\n",
    "from lifelines import KaplanMeierFitter, CoxPHFitter\n",
    "from lifelines.statistics import logrank_test\n",
    "from scipy import stats\n",
    "import pickle"
   ]
  },
  {
   "cell_type": "code",
   "execution_count": 14,
   "metadata": {},
   "outputs": [],
   "source": [
    "cancer='blca'\n",
    "can='BLCA'\n",
    "path='SNN'"
   ]
  },
  {
   "cell_type": "code",
   "execution_count": 21,
   "metadata": {},
   "outputs": [],
   "source": [
    "with open('/home/wbjeong/cancer/JJM/WSI/Data4/tcga_blca_PorpoiseMMF_nll_surv_a0.0_/home/wbjeong/cancer/JJM/code/datasets_gc32_bilinear_s1/split_latest_val_0_results.pkl', 'rb') as f:\n",
    "    data = pickle.load(f)"
   ]
  },
  {
   "cell_type": "code",
   "execution_count": 28,
   "metadata": {},
   "outputs": [],
   "source": [
    "df1=pd.DataFrame(data)"
   ]
  },
  {
   "cell_type": "code",
   "execution_count": 27,
   "metadata": {},
   "outputs": [],
   "source": [
    "samples=pd.read_csv('/home/wbjeong/cancer/JJM/code/datasets_csv_mutsig/tcga_'+cancer+'_all_clean.csv.zip')"
   ]
  },
  {
   "cell_type": "code",
   "execution_count": 69,
   "metadata": {},
   "outputs": [],
   "source": [
    "high_list=[]\n",
    "low_list=[]\n",
    "for i in range(0,5):\n",
    "    with open('/home/wbjeong/cancer/JJM/WSI/Data4/tcga_blca_PorpoiseMMF_nll_surv_a0.0_/home/wbjeong/cancer/JJM/code/datasets_gc32_bilinear_s1/split_latest_val_'+str(i)+'_results.pkl', 'rb') as f:\n",
    "        data = pickle.load(f)\n",
    "        df1=pd.DataFrame(data)\n",
    "    BLCA_risk = pd.read_csv('/home/wbjeong/cancer/JJM/results/SNN/BLCA/BLCA_risk'+str(i)+'.csv')\n",
    "    BLCA_risk=np.transpose(pd.DataFrame([df1.columns,df1.iloc[1,:]]))\n",
    "    BLCA_risk.iloc[:,0]=range(0,len(BLCA_risk))\n",
    "    ab=[]\n",
    "    for k in BLCA_risk.iloc[:,1]:\n",
    "        ab.append(k[0])\n",
    "    BLCA_risk.iloc[:,1]=ab\n",
    "\n",
    "    BLCA_name = pd.read_csv('/home/wbjeong/cancer/JJM/results/SNN/BLCA/'+str(i)+'.csv')\n",
    "    BLCA_name=np.transpose(pd.DataFrame([df1.columns,df1.columns]))\n",
    "    BLCA_name.iloc[:,0]=range(0,len(BLCA_name))\n",
    "    BLCA_risk.iloc[:,0]=list(BLCA_name.iloc[:,1])\n",
    "    BLCA_risk.columns=['0','1']\n",
    "    BLCA_risk=BLCA_risk.sort_values('0')\n",
    "    for j in BLCA_risk[BLCA_risk.iloc[:,1]>np.percentile(BLCA_risk.iloc[:,1],50)].iloc[:,0]:\n",
    "        high_list.append(j)\n",
    "    for j in BLCA_risk[BLCA_risk.iloc[:,1]<np.percentile(BLCA_risk.iloc[:,1],50)].iloc[:,0]:\n",
    "        low_list.append(j)"
   ]
  },
  {
   "cell_type": "code",
   "execution_count": 70,
   "metadata": {},
   "outputs": [],
   "source": [
    "samples.index=samples['case_id']\n",
    "H=samples.loc[high_list,:]['survival_months']\n",
    "HC=1-samples.loc[high_list,:]['censorship']\n",
    "L=samples.loc[low_list,:]['survival_months']\n",
    "LC=1-samples.loc[low_list,:]['censorship']"
   ]
  },
  {
   "cell_type": "code",
   "execution_count": 12,
   "metadata": {},
   "outputs": [],
   "source": [
    "for i in range(0,5):\n",
    "    BLCA_risk = pd.read_csv('/home/wbjeong/cancer/JJM/results/SNN/BLCA/BLCA_risk'+str(i)+'.csv')\n",
    "    BLCA_name = pd.read_csv('/home/wbjeong/cancer/JJM/results/SNN/BLCA/'+str(i)+'.csv')\n",
    "    if i==0:\n",
    "        BLCA_risk.iloc[:,0]=list(BLCA_name.iloc[:,1])\n",
    "        BLCA_risk1=BLCA_risk\n",
    "    else:\n",
    "        BLCA_risk.iloc[:,0]=list(BLCA_name.iloc[:,1])\n",
    "        BLCA_risk1=pd.concat([BLCA_risk1,BLCA_risk])\n",
    "BLCA_risk=BLCA_risk1.sort_values('0')\n",
    "high=BLCA_risk.iloc[:int(len(BLCA_risk)/2),:]\n",
    "high=high[~high.iloc[:,0].isin(['TCGA-ZF-AA58'])]\n",
    "low=BLCA_risk.iloc[int(len(BLCA_risk)/2):,:]\n",
    "samples.index=samples['case_id']\n",
    "H=samples.loc[high.iloc[:,0],:]['survival_months']\n",
    "HC=1-samples.loc[high.iloc[:,0],:]['censorship']\n",
    "L=samples.loc[low.iloc[:,0],:]['survival_months']\n",
    "LC=1-samples.loc[low.iloc[:,0],:]['censorship']"
   ]
  },
  {
   "cell_type": "code",
   "execution_count": 66,
   "metadata": {},
   "outputs": [],
   "source": [
    "for i in range(0,5):\n",
    "    with open('/home/wbjeong/cancer/JJM/WSI/Data4/tcga_blca_PorpoiseMMF_nll_surv_a0.0_/home/wbjeong/cancer/JJM/code/datasets_gc32_bilinear_s1/split_latest_val_'+str(i)+'_results.pkl', 'rb') as f:\n",
    "        data = pickle.load(f)\n",
    "        df1=pd.DataFrame(data)\n",
    "    BLCA_risk = pd.read_csv('/home/wbjeong/cancer/JJM/results/SNN/BLCA/BLCA_risk'+str(i)+'.csv')\n",
    "    BLCA_risk=np.transpose(pd.DataFrame([df1.columns,df1.iloc[1,:]]))\n",
    "    BLCA_risk.iloc[:,0]=range(0,len(BLCA_risk))\n",
    "    ab=[]\n",
    "    for k in BLCA_risk.iloc[:,1]:\n",
    "        ab.append(k[0])\n",
    "    BLCA_risk.iloc[:,1]=ab\n",
    "\n",
    "    BLCA_name = pd.read_csv('/home/wbjeong/cancer/JJM/results/SNN/BLCA/'+str(i)+'.csv')\n",
    "    BLCA_name=np.transpose(pd.DataFrame([df1.columns,df1.columns]))\n",
    "    BLCA_name.iloc[:,0]=range(0,len(BLCA_name))\n",
    "    if i==0:\n",
    "        BLCA_risk.iloc[:,0]=list(BLCA_name.iloc[:,1])\n",
    "        BLCA_risk1=BLCA_risk\n",
    "    else:\n",
    "        BLCA_risk.iloc[:,0]=list(BLCA_name.iloc[:,1])\n",
    "        BLCA_risk1=pd.concat([BLCA_risk1,BLCA_risk])\n",
    "BLCA_risk1.columns=['0','1']\n",
    "BLCA_risk=BLCA_risk1.sort_values('0')\n",
    "high=BLCA_risk.iloc[:int(len(BLCA_risk)/2),:]\n",
    "high=high[~high.iloc[:,0].isin(['TCGA-ZF-AA58'])]\n",
    "low=BLCA_risk.iloc[int(len(BLCA_risk)/2):,:]\n",
    "samples.index=samples['case_id']\n",
    "H=samples.loc[high.iloc[:,0],:]['survival_months']\n",
    "HC=1-samples.loc[high.iloc[:,0],:]['censorship']\n",
    "L=samples.loc[low.iloc[:,0],:]['survival_months']\n",
    "LC=1-samples.loc[low.iloc[:,0],:]['censorship']"
   ]
  },
  {
   "cell_type": "code",
   "execution_count": null,
   "metadata": {},
   "outputs": [],
   "source": [
    "BLCA_name = pd.read_csv('/home/wbjeong/cancer/JJM/results/SNN/BLCA/'+str(i)+'.csv')\n",
    "BLCA_name=np.transpose(pd.DataFrame([df1.columns,df1.columns]))"
   ]
  },
  {
   "cell_type": "code",
   "execution_count": 58,
   "metadata": {},
   "outputs": [
    {
     "ename": "IndexError",
     "evalue": "too many indices for array: array is 0-dimensional, but 1 were indexed",
     "output_type": "error",
     "traceback": [
      "\u001b[0;31m---------------------------------------------------------------------------\u001b[0m",
      "\u001b[0;31mIndexError\u001b[0m                                Traceback (most recent call last)",
      "\u001b[0;32m/tmp/ipykernel_4167318/655557373.py\u001b[0m in \u001b[0;36m<module>\u001b[0;34m\u001b[0m\n\u001b[1;32m      1\u001b[0m \u001b[0mab\u001b[0m\u001b[0;34m=\u001b[0m\u001b[0;34m[\u001b[0m\u001b[0;34m]\u001b[0m\u001b[0;34m\u001b[0m\u001b[0;34m\u001b[0m\u001b[0m\n\u001b[1;32m      2\u001b[0m \u001b[0;32mfor\u001b[0m \u001b[0mk\u001b[0m \u001b[0;32min\u001b[0m \u001b[0mBLCA_risk\u001b[0m\u001b[0;34m.\u001b[0m\u001b[0miloc\u001b[0m\u001b[0;34m[\u001b[0m\u001b[0;34m:\u001b[0m\u001b[0;34m,\u001b[0m\u001b[0;36m1\u001b[0m\u001b[0;34m]\u001b[0m\u001b[0;34m:\u001b[0m\u001b[0;34m\u001b[0m\u001b[0;34m\u001b[0m\u001b[0m\n\u001b[0;32m----> 3\u001b[0;31m     \u001b[0mab\u001b[0m\u001b[0;34m.\u001b[0m\u001b[0mappend\u001b[0m\u001b[0;34m(\u001b[0m\u001b[0mk\u001b[0m\u001b[0;34m[\u001b[0m\u001b[0;36m0\u001b[0m\u001b[0;34m]\u001b[0m\u001b[0;34m)\u001b[0m\u001b[0;34m\u001b[0m\u001b[0;34m\u001b[0m\u001b[0m\n\u001b[0m",
      "\u001b[0;31mIndexError\u001b[0m: too many indices for array: array is 0-dimensional, but 1 were indexed"
     ]
    }
   ],
   "source": [
    "ab=[]\n",
    "for k in BLCA_risk.iloc[:,1]:\n",
    "    ab.append(k[0])"
   ]
  },
  {
   "cell_type": "code",
   "execution_count": 61,
   "metadata": {},
   "outputs": [
    {
     "data": {
      "text/html": [
       "<div>\n",
       "<style scoped>\n",
       "    .dataframe tbody tr th:only-of-type {\n",
       "        vertical-align: middle;\n",
       "    }\n",
       "\n",
       "    .dataframe tbody tr th {\n",
       "        vertical-align: top;\n",
       "    }\n",
       "\n",
       "    .dataframe thead th {\n",
       "        text-align: right;\n",
       "    }\n",
       "</style>\n",
       "<table border=\"1\" class=\"dataframe\">\n",
       "  <thead>\n",
       "    <tr style=\"text-align: right;\">\n",
       "      <th></th>\n",
       "      <th>0</th>\n",
       "      <th>1</th>\n",
       "    </tr>\n",
       "  </thead>\n",
       "  <tbody>\n",
       "    <tr>\n",
       "      <th>0</th>\n",
       "      <td>TCGA-2F-A9KO</td>\n",
       "      <td>[-3.626877]</td>\n",
       "    </tr>\n",
       "    <tr>\n",
       "      <th>1</th>\n",
       "      <td>TCGA-2F-A9KQ</td>\n",
       "      <td>[-3.564201]</td>\n",
       "    </tr>\n",
       "    <tr>\n",
       "      <th>2</th>\n",
       "      <td>TCGA-2F-A9KR</td>\n",
       "      <td>[-3.6611423]</td>\n",
       "    </tr>\n",
       "    <tr>\n",
       "      <th>3</th>\n",
       "      <td>TCGA-4Z-AA80</td>\n",
       "      <td>[-3.6774797]</td>\n",
       "    </tr>\n",
       "    <tr>\n",
       "      <th>4</th>\n",
       "      <td>TCGA-4Z-AA86</td>\n",
       "      <td>[-3.5343184]</td>\n",
       "    </tr>\n",
       "    <tr>\n",
       "      <th>...</th>\n",
       "      <td>...</td>\n",
       "      <td>...</td>\n",
       "    </tr>\n",
       "    <tr>\n",
       "      <th>70</th>\n",
       "      <td>TCGA-ZF-A9R4</td>\n",
       "      <td>[-3.5941365]</td>\n",
       "    </tr>\n",
       "    <tr>\n",
       "      <th>71</th>\n",
       "      <td>TCGA-ZF-A9R7</td>\n",
       "      <td>[-3.6755884]</td>\n",
       "    </tr>\n",
       "    <tr>\n",
       "      <th>72</th>\n",
       "      <td>TCGA-ZF-A9R9</td>\n",
       "      <td>[-3.3381407]</td>\n",
       "    </tr>\n",
       "    <tr>\n",
       "      <th>73</th>\n",
       "      <td>TCGA-ZF-A9RC</td>\n",
       "      <td>[-3.6212626]</td>\n",
       "    </tr>\n",
       "    <tr>\n",
       "      <th>74</th>\n",
       "      <td>TCGA-ZF-A9RD</td>\n",
       "      <td>[-0.8691564]</td>\n",
       "    </tr>\n",
       "  </tbody>\n",
       "</table>\n",
       "<p>75 rows × 2 columns</p>\n",
       "</div>"
      ],
      "text/plain": [
       "               0             1\n",
       "0   TCGA-2F-A9KO   [-3.626877]\n",
       "1   TCGA-2F-A9KQ   [-3.564201]\n",
       "2   TCGA-2F-A9KR  [-3.6611423]\n",
       "3   TCGA-4Z-AA80  [-3.6774797]\n",
       "4   TCGA-4Z-AA86  [-3.5343184]\n",
       "..           ...           ...\n",
       "70  TCGA-ZF-A9R4  [-3.5941365]\n",
       "71  TCGA-ZF-A9R7  [-3.6755884]\n",
       "72  TCGA-ZF-A9R9  [-3.3381407]\n",
       "73  TCGA-ZF-A9RC  [-3.6212626]\n",
       "74  TCGA-ZF-A9RD  [-0.8691564]\n",
       "\n",
       "[75 rows x 2 columns]"
      ]
     },
     "execution_count": 61,
     "metadata": {},
     "output_type": "execute_result"
    }
   ],
   "source": [
    "BLCA_risk"
   ]
  },
  {
   "cell_type": "code",
   "execution_count": 42,
   "metadata": {},
   "outputs": [
    {
     "data": {
      "text/html": [
       "<div>\n",
       "<style scoped>\n",
       "    .dataframe tbody tr th:only-of-type {\n",
       "        vertical-align: middle;\n",
       "    }\n",
       "\n",
       "    .dataframe tbody tr th {\n",
       "        vertical-align: top;\n",
       "    }\n",
       "\n",
       "    .dataframe thead th {\n",
       "        text-align: right;\n",
       "    }\n",
       "</style>\n",
       "<table border=\"1\" class=\"dataframe\">\n",
       "  <thead>\n",
       "    <tr style=\"text-align: right;\">\n",
       "      <th></th>\n",
       "      <th>Unnamed: 0</th>\n",
       "      <th>0</th>\n",
       "    </tr>\n",
       "  </thead>\n",
       "  <tbody>\n",
       "    <tr>\n",
       "      <th>0</th>\n",
       "      <td>0</td>\n",
       "      <td>TCGA-2F-A9KT</td>\n",
       "    </tr>\n",
       "    <tr>\n",
       "      <th>1</th>\n",
       "      <td>1</td>\n",
       "      <td>TCGA-4Z-AA7S</td>\n",
       "    </tr>\n",
       "    <tr>\n",
       "      <th>2</th>\n",
       "      <td>2</td>\n",
       "      <td>TCGA-5N-A9KM</td>\n",
       "    </tr>\n",
       "    <tr>\n",
       "      <th>3</th>\n",
       "      <td>3</td>\n",
       "      <td>TCGA-BL-A13I</td>\n",
       "    </tr>\n",
       "    <tr>\n",
       "      <th>4</th>\n",
       "      <td>4</td>\n",
       "      <td>TCGA-BL-A3JM</td>\n",
       "    </tr>\n",
       "    <tr>\n",
       "      <th>...</th>\n",
       "      <td>...</td>\n",
       "      <td>...</td>\n",
       "    </tr>\n",
       "    <tr>\n",
       "      <th>69</th>\n",
       "      <td>69</td>\n",
       "      <td>TCGA-ZF-AA4T</td>\n",
       "    </tr>\n",
       "    <tr>\n",
       "      <th>70</th>\n",
       "      <td>70</td>\n",
       "      <td>TCGA-ZF-AA4W</td>\n",
       "    </tr>\n",
       "    <tr>\n",
       "      <th>71</th>\n",
       "      <td>71</td>\n",
       "      <td>TCGA-ZF-AA52</td>\n",
       "    </tr>\n",
       "    <tr>\n",
       "      <th>72</th>\n",
       "      <td>72</td>\n",
       "      <td>TCGA-ZF-AA54</td>\n",
       "    </tr>\n",
       "    <tr>\n",
       "      <th>73</th>\n",
       "      <td>73</td>\n",
       "      <td>TCGA-ZF-AA5H</td>\n",
       "    </tr>\n",
       "  </tbody>\n",
       "</table>\n",
       "<p>74 rows × 2 columns</p>\n",
       "</div>"
      ],
      "text/plain": [
       "    Unnamed: 0             0\n",
       "0            0  TCGA-2F-A9KT\n",
       "1            1  TCGA-4Z-AA7S\n",
       "2            2  TCGA-5N-A9KM\n",
       "3            3  TCGA-BL-A13I\n",
       "4            4  TCGA-BL-A3JM\n",
       "..         ...           ...\n",
       "69          69  TCGA-ZF-AA4T\n",
       "70          70  TCGA-ZF-AA4W\n",
       "71          71  TCGA-ZF-AA52\n",
       "72          72  TCGA-ZF-AA54\n",
       "73          73  TCGA-ZF-AA5H\n",
       "\n",
       "[74 rows x 2 columns]"
      ]
     },
     "execution_count": 42,
     "metadata": {},
     "output_type": "execute_result"
    }
   ],
   "source": [
    "BLCA_name"
   ]
  },
  {
   "cell_type": "code",
   "execution_count": 36,
   "metadata": {},
   "outputs": [
    {
     "data": {
      "text/plain": [
       "26.78471794871795"
      ]
     },
     "execution_count": 36,
     "metadata": {},
     "output_type": "execute_result"
    }
   ],
   "source": [
    "H.mean()"
   ]
  },
  {
   "cell_type": "code",
   "execution_count": 38,
   "metadata": {},
   "outputs": [
    {
     "data": {
      "text/html": [
       "<div>\n",
       "<style scoped>\n",
       "    .dataframe tbody tr th:only-of-type {\n",
       "        vertical-align: middle;\n",
       "    }\n",
       "\n",
       "    .dataframe tbody tr th {\n",
       "        vertical-align: top;\n",
       "    }\n",
       "\n",
       "    .dataframe thead th {\n",
       "        text-align: right;\n",
       "    }\n",
       "</style>\n",
       "<table border=\"1\" class=\"dataframe\">\n",
       "  <thead>\n",
       "    <tr style=\"text-align: right;\">\n",
       "      <th></th>\n",
       "      <th>survival_months</th>\n",
       "    </tr>\n",
       "    <tr>\n",
       "      <th>case_id</th>\n",
       "      <th></th>\n",
       "    </tr>\n",
       "  </thead>\n",
       "  <tbody>\n",
       "    <tr>\n",
       "      <th>TCGA-ZF-A9RD</th>\n",
       "      <td>13.40</td>\n",
       "    </tr>\n",
       "    <tr>\n",
       "      <th>TCGA-4Z-AA86</th>\n",
       "      <td>10.22</td>\n",
       "    </tr>\n",
       "    <tr>\n",
       "      <th>TCGA-DK-A2I4</th>\n",
       "      <td>142.67</td>\n",
       "    </tr>\n",
       "    <tr>\n",
       "      <th>TCGA-GC-A3BM</th>\n",
       "      <td>21.39</td>\n",
       "    </tr>\n",
       "    <tr>\n",
       "      <th>TCGA-UY-A8OD</th>\n",
       "      <td>112.75</td>\n",
       "    </tr>\n",
       "    <tr>\n",
       "      <th>...</th>\n",
       "      <td>...</td>\n",
       "    </tr>\n",
       "    <tr>\n",
       "      <th>TCGA-G2-A2ES</th>\n",
       "      <td>32.98</td>\n",
       "    </tr>\n",
       "    <tr>\n",
       "      <th>TCGA-G2-A2ES</th>\n",
       "      <td>32.98</td>\n",
       "    </tr>\n",
       "    <tr>\n",
       "      <th>TCGA-K4-A5RH</th>\n",
       "      <td>9.07</td>\n",
       "    </tr>\n",
       "    <tr>\n",
       "      <th>TCGA-XF-AAMY</th>\n",
       "      <td>98.92</td>\n",
       "    </tr>\n",
       "    <tr>\n",
       "      <th>TCGA-XF-AAN5</th>\n",
       "      <td>75.33</td>\n",
       "    </tr>\n",
       "  </tbody>\n",
       "</table>\n",
       "<p>195 rows × 1 columns</p>\n",
       "</div>"
      ],
      "text/plain": [
       "              survival_months\n",
       "case_id                      \n",
       "TCGA-ZF-A9RD            13.40\n",
       "TCGA-4Z-AA86            10.22\n",
       "TCGA-DK-A2I4           142.67\n",
       "TCGA-GC-A3BM            21.39\n",
       "TCGA-UY-A8OD           112.75\n",
       "...                       ...\n",
       "TCGA-G2-A2ES            32.98\n",
       "TCGA-G2-A2ES            32.98\n",
       "TCGA-K4-A5RH             9.07\n",
       "TCGA-XF-AAMY            98.92\n",
       "TCGA-XF-AAN5            75.33\n",
       "\n",
       "[195 rows x 1 columns]"
      ]
     },
     "execution_count": 38,
     "metadata": {},
     "output_type": "execute_result"
    }
   ],
   "source": [
    "pd.DataFrame(H)"
   ]
  },
  {
   "cell_type": "code",
   "execution_count": 74,
   "metadata": {},
   "outputs": [
    {
     "data": {
      "text/plain": [
       "(0.0, 1.0)"
      ]
     },
     "execution_count": 74,
     "metadata": {},
     "output_type": "execute_result"
    },
    {
     "data": {
      "image/png": "[encoded data removed]",
      "text/plain": [
       "<Figure size 640x480 with 1 Axes>"
      ]
     },
     "metadata": {},
     "output_type": "display_data"
    }
   ],
   "source": [
    "\n",
    "ax = plt.subplot(111)\n",
    "kmf = KaplanMeierFitter()\n",
    "kmf.fit(list(L/12), event_observed = list(LC), label = 'Low Risk')\n",
    "kmf.plot(ax = ax,ci_show=False,color='blue')\n",
    "kmf = KaplanMeierFitter()\n",
    "kmf.fit(list(H/12), event_observed = list(HC), label = 'High Risk')\n",
    "kmf.plot(ax = ax,ci_show=False,color='red')\n",
    "plt.title('MMF P-value: 2.92e-05')\n",
    "plt.xlabel(\"Years\")\n",
    "plt.ylabel(\"Proportion Surviving\")\n",
    "plt.xlim(0, 12)\n",
    "plt.ylim(0,1)\n",
    "#plt.savefig('/home/wbjeong/cancer/JJM/figures/BLCA/WSI/survival.pdf',bbox_inches='tight')"
   ]
  },
  {
   "cell_type": "code",
   "execution_count": 20,
   "metadata": {},
   "outputs": [
    {
     "data": {
      "text/plain": [
       "case_id\n",
       "TCGA-E7-A7DU    0\n",
       "TCGA-MV-A51V    0\n",
       "TCGA-XF-AAMZ    1\n",
       "TCGA-XF-AAML    1\n",
       "TCGA-GV-A3JV    1\n",
       "               ..\n",
       "TCGA-CF-A47Y    0\n",
       "TCGA-XF-A8HF    1\n",
       "TCGA-ZF-AA5P    0\n",
       "TCGA-XF-A9SH    1\n",
       "TCGA-XF-A9T0    0\n",
       "Name: censorship, Length: 116, dtype: int64"
      ]
     },
     "execution_count": 20,
     "metadata": {},
     "output_type": "execute_result"
    }
   ],
   "source": [
    "LC"
   ]
  },
  {
   "cell_type": "code",
   "execution_count": 72,
   "metadata": {},
   "outputs": [
    {
     "data": {
      "text/plain": [
       "2.923149422425573e-05"
      ]
     },
     "execution_count": 72,
     "metadata": {},
     "output_type": "execute_result"
    }
   ],
   "source": [
    "XX=logrank_test(L,H,LC,HC)\n",
    "XX.p_value"
   ]
  },
  {
   "cell_type": "code",
   "execution_count": 149,
   "metadata": {},
   "outputs": [],
   "source": [
    "BLCA_risk=BLCA_risk.drop_duplicates('Unnamed: 0')\n",
    "samples=samples.drop_duplicates('case_id')\n",
    "BLCA_risk['survival_months']=list(samples.loc[list(BLCA_risk.iloc[:,0]),:]['survival_months'])\n",
    "BLCA_risk['censorship']=list(samples.loc[BLCA_risk.iloc[:,0],:]['censorship'])\n",
    "BLCA_risk['label']=None\n",
    "BLCA_risk.iloc[:172,-1]='High'\n",
    "BLCA_risk.iloc[172:,-1]='Low'"
   ]
  },
  {
   "cell_type": "code",
   "execution_count": 150,
   "metadata": {},
   "outputs": [],
   "source": [
    "BLCA_risk.to_csv('/home/wbjeong/cancer/JJM/results/SNN/BLCA/survival_snn.csv')"
   ]
  },
  {
   "cell_type": "code",
   "execution_count": 148,
   "metadata": {},
   "outputs": [
    {
     "data": {
      "text/html": [
       "<div>\n",
       "<style scoped>\n",
       "    .dataframe tbody tr th:only-of-type {\n",
       "        vertical-align: middle;\n",
       "    }\n",
       "\n",
       "    .dataframe tbody tr th {\n",
       "        vertical-align: top;\n",
       "    }\n",
       "\n",
       "    .dataframe thead th {\n",
       "        text-align: right;\n",
       "    }\n",
       "</style>\n",
       "<table border=\"1\" class=\"dataframe\">\n",
       "  <thead>\n",
       "    <tr style=\"text-align: right;\">\n",
       "      <th></th>\n",
       "      <th>Unnamed: 0</th>\n",
       "      <th>0</th>\n",
       "      <th>survival_months</th>\n",
       "      <th>censorship</th>\n",
       "      <th>label</th>\n",
       "    </tr>\n",
       "  </thead>\n",
       "  <tbody>\n",
       "    <tr>\n",
       "      <th>42</th>\n",
       "      <td>TCGA-BP-4994</td>\n",
       "      <td>-3.999991</td>\n",
       "      <td>NaN</td>\n",
       "      <td>1</td>\n",
       "      <td>High</td>\n",
       "    </tr>\n",
       "    <tr>\n",
       "      <th>20</th>\n",
       "      <td>TCGA-B2-3923</td>\n",
       "      <td>-3.999991</td>\n",
       "      <td>NaN</td>\n",
       "      <td>1</td>\n",
       "      <td>High</td>\n",
       "    </tr>\n",
       "    <tr>\n",
       "      <th>32</th>\n",
       "      <td>TCGA-BP-4760</td>\n",
       "      <td>-3.999960</td>\n",
       "      <td>NaN</td>\n",
       "      <td>1</td>\n",
       "      <td>High</td>\n",
       "    </tr>\n",
       "    <tr>\n",
       "      <th>33</th>\n",
       "      <td>TCGA-BP-4795</td>\n",
       "      <td>-3.999946</td>\n",
       "      <td>NaN</td>\n",
       "      <td>1</td>\n",
       "      <td>High</td>\n",
       "    </tr>\n",
       "    <tr>\n",
       "      <th>26</th>\n",
       "      <td>TCGA-B8-5546</td>\n",
       "      <td>-3.999945</td>\n",
       "      <td>NaN</td>\n",
       "      <td>1</td>\n",
       "      <td>High</td>\n",
       "    </tr>\n",
       "    <tr>\n",
       "      <th>...</th>\n",
       "      <td>...</td>\n",
       "      <td>...</td>\n",
       "      <td>...</td>\n",
       "      <td>...</td>\n",
       "      <td>...</td>\n",
       "    </tr>\n",
       "    <tr>\n",
       "      <th>28</th>\n",
       "      <td>TCGA-B8-4620</td>\n",
       "      <td>-0.002886</td>\n",
       "      <td>NaN</td>\n",
       "      <td>1</td>\n",
       "      <td>Low</td>\n",
       "    </tr>\n",
       "    <tr>\n",
       "      <th>16</th>\n",
       "      <td>TCGA-B0-5096</td>\n",
       "      <td>-0.000959</td>\n",
       "      <td>NaN</td>\n",
       "      <td>0</td>\n",
       "      <td>Low</td>\n",
       "    </tr>\n",
       "    <tr>\n",
       "      <th>15</th>\n",
       "      <td>TCGA-B0-5095</td>\n",
       "      <td>-0.000832</td>\n",
       "      <td>NaN</td>\n",
       "      <td>0</td>\n",
       "      <td>Low</td>\n",
       "    </tr>\n",
       "    <tr>\n",
       "      <th>10</th>\n",
       "      <td>TCGA-B0-4810</td>\n",
       "      <td>-0.000290</td>\n",
       "      <td>NaN</td>\n",
       "      <td>0</td>\n",
       "      <td>Low</td>\n",
       "    </tr>\n",
       "    <tr>\n",
       "      <th>68</th>\n",
       "      <td>TCGA-MM-A564</td>\n",
       "      <td>-0.000164</td>\n",
       "      <td>NaN</td>\n",
       "      <td>1</td>\n",
       "      <td>Low</td>\n",
       "    </tr>\n",
       "  </tbody>\n",
       "</table>\n",
       "<p>345 rows × 5 columns</p>\n",
       "</div>"
      ],
      "text/plain": [
       "      Unnamed: 0         0  survival_months  censorship label\n",
       "42  TCGA-BP-4994 -3.999991              NaN           1  High\n",
       "20  TCGA-B2-3923 -3.999991              NaN           1  High\n",
       "32  TCGA-BP-4760 -3.999960              NaN           1  High\n",
       "33  TCGA-BP-4795 -3.999946              NaN           1  High\n",
       "26  TCGA-B8-5546 -3.999945              NaN           1  High\n",
       "..           ...       ...              ...         ...   ...\n",
       "28  TCGA-B8-4620 -0.002886              NaN           1   Low\n",
       "16  TCGA-B0-5096 -0.000959              NaN           0   Low\n",
       "15  TCGA-B0-5095 -0.000832              NaN           0   Low\n",
       "10  TCGA-B0-4810 -0.000290              NaN           0   Low\n",
       "68  TCGA-MM-A564 -0.000164              NaN           1   Low\n",
       "\n",
       "[345 rows x 5 columns]"
      ]
     },
     "execution_count": 148,
     "metadata": {},
     "output_type": "execute_result"
    }
   ],
   "source": [
    "BLCA_risk"
   ]
  },
  {
   "cell_type": "code",
   "execution_count": 58,
   "metadata": {},
   "outputs": [],
   "source": [
    "samples.index=samples['case_id']\n",
    "H=samples.loc[high_list,:]['survival_months']\n",
    "HC=samples.loc[high_list,:]['censorship']\n",
    "L=samples.loc[low_list,:]['survival_months']\n",
    "LC=samples.loc[low_list,:]['censorship']"
   ]
  },
  {
   "cell_type": "code",
   "execution_count": 42,
   "metadata": {},
   "outputs": [],
   "source": [
    "samples.index=samples['case_id']\n",
    "H=samples.loc[high.iloc[:,0],:]['survival_months']\n",
    "HC=samples.loc[high.iloc[:,0],:]['censorship']\n",
    "L=samples.loc[low.iloc[:,0],:]['survival_months']\n",
    "LC=samples.loc[low.iloc[:,0],:]['censorship']"
   ]
  },
  {
   "cell_type": "code",
   "execution_count": 100,
   "metadata": {},
   "outputs": [
    {
     "data": {
      "text/plain": [
       "Index(['Unnamed: 0', 'case_id', 'slide_id', 'age', 'site', 'survival_months',\n",
       "       'censorship', 'is_female', 'oncotree_code', 'train', 'AAK1_rnaseq',\n",
       "       'AATK_rnaseq', 'ABCB1_rnaseq', 'ABCG2_rnaseq', 'ABI1_rnaseq'],\n",
       "      dtype='object')"
      ]
     },
     "execution_count": 100,
     "metadata": {},
     "output_type": "execute_result"
    }
   ],
   "source": [
    "samples.columns[:15]"
   ]
  },
  {
   "cell_type": "code",
   "execution_count": 75,
   "metadata": {},
   "outputs": [
    {
     "data": {
      "text/plain": [
       "case_id\n",
       "TCGA-AS-3778      1.41\n",
       "TCGA-BP-5195     24.61\n",
       "TCGA-B0-5116     41.85\n",
       "TCGA-B8-A54K     15.41\n",
       "TCGA-BP-4968     57.36\n",
       "                 ...  \n",
       "TCGA-B0-4821     40.41\n",
       "TCGA-AK-3429    109.33\n",
       "TCGA-CJ-4638     14.16\n",
       "TCGA-DV-A4VX     53.42\n",
       "TCGA-B8-4620     25.53\n",
       "Name: survival_months, Length: 176, dtype: float64"
      ]
     },
     "execution_count": 75,
     "metadata": {},
     "output_type": "execute_result"
    }
   ],
   "source": [
    "L"
   ]
  },
  {
   "cell_type": "code",
   "execution_count": 152,
   "metadata": {},
   "outputs": [
    {
     "ename": "ValueError",
     "evalue": "Values must be numeric: no strings, datetimes, objects, etc.",
     "output_type": "error",
     "traceback": [
      "\u001b[0;31m---------------------------------------------------------------------------\u001b[0m",
      "\u001b[0;31mValueError\u001b[0m                                Traceback (most recent call last)",
      "File \u001b[0;32m~/.conda/envs/conch/lib/python3.10/site-packages/lifelines/utils/__init__.py:964\u001b[0m, in \u001b[0;36mpass_for_numeric_dtypes_or_raise_array\u001b[0;34m(x)\u001b[0m\n\u001b[1;32m    963\u001b[0m \u001b[38;5;28;01mif\u001b[39;00m v\u001b[38;5;241m.\u001b[39msize \u001b[38;5;241m==\u001b[39m \u001b[38;5;241m0\u001b[39m:\n\u001b[0;32m--> 964\u001b[0m     \u001b[38;5;28;01mraise\u001b[39;00m \u001b[38;5;167;01mValueError\u001b[39;00m(\u001b[38;5;124m\"\u001b[39m\u001b[38;5;124mEmpty array/Series passed in.\u001b[39m\u001b[38;5;124m\"\u001b[39m)\n\u001b[1;32m    965\u001b[0m \u001b[38;5;28;01mreturn\u001b[39;00m v\n",
      "\u001b[0;31mValueError\u001b[0m: Empty array/Series passed in.",
      "\nDuring handling of the above exception, another exception occurred:\n",
      "\u001b[0;31mValueError\u001b[0m                                Traceback (most recent call last)",
      "Cell \u001b[0;32mIn[152], line 3\u001b[0m\n\u001b[1;32m      1\u001b[0m ax \u001b[38;5;241m=\u001b[39m plt\u001b[38;5;241m.\u001b[39msubplot(\u001b[38;5;241m111\u001b[39m)\n\u001b[1;32m      2\u001b[0m kmf \u001b[38;5;241m=\u001b[39m KaplanMeierFitter()\n\u001b[0;32m----> 3\u001b[0m \u001b[43mkmf\u001b[49m\u001b[38;5;241;43m.\u001b[39;49m\u001b[43mfit\u001b[49m\u001b[43m(\u001b[49m\u001b[38;5;28;43mlist\u001b[39;49m\u001b[43m(\u001b[49m\u001b[43mL\u001b[49m\u001b[38;5;241;43m/\u001b[39;49m\u001b[38;5;241;43m12\u001b[39;49m\u001b[43m)\u001b[49m\u001b[43m,\u001b[49m\u001b[43m \u001b[49m\u001b[43mevent_observed\u001b[49m\u001b[43m \u001b[49m\u001b[38;5;241;43m=\u001b[39;49m\u001b[43m \u001b[49m\u001b[38;5;28;43mlist\u001b[39;49m\u001b[43m(\u001b[49m\u001b[43mLC\u001b[49m\u001b[43m)\u001b[49m\u001b[43m,\u001b[49m\u001b[43m \u001b[49m\u001b[43mlabel\u001b[49m\u001b[43m \u001b[49m\u001b[38;5;241;43m=\u001b[39;49m\u001b[43m \u001b[49m\u001b[38;5;124;43m'\u001b[39;49m\u001b[38;5;124;43mLow Risk\u001b[39;49m\u001b[38;5;124;43m'\u001b[39;49m\u001b[43m)\u001b[49m\n\u001b[1;32m      4\u001b[0m kmf\u001b[38;5;241m.\u001b[39mplot(ax \u001b[38;5;241m=\u001b[39m ax,ci_show\u001b[38;5;241m=\u001b[39m\u001b[38;5;28;01mFalse\u001b[39;00m,color\u001b[38;5;241m=\u001b[39m\u001b[38;5;124m'\u001b[39m\u001b[38;5;124mblue\u001b[39m\u001b[38;5;124m'\u001b[39m)\n\u001b[1;32m      5\u001b[0m kmf \u001b[38;5;241m=\u001b[39m KaplanMeierFitter()\n",
      "File \u001b[0;32m~/.conda/envs/conch/lib/python3.10/site-packages/lifelines/utils/__init__.py:56\u001b[0m, in \u001b[0;36mCensoringType.right_censoring.<locals>.f\u001b[0;34m(model, *args, **kwargs)\u001b[0m\n\u001b[1;32m     53\u001b[0m \u001b[38;5;129m@wraps\u001b[39m(function)\n\u001b[1;32m     54\u001b[0m \u001b[38;5;28;01mdef\u001b[39;00m \u001b[38;5;21mf\u001b[39m(model, \u001b[38;5;241m*\u001b[39margs, \u001b[38;5;241m*\u001b[39m\u001b[38;5;241m*\u001b[39mkwargs):\n\u001b[1;32m     55\u001b[0m     \u001b[38;5;28mcls\u001b[39m\u001b[38;5;241m.\u001b[39mset_censoring_type(model, \u001b[38;5;28mcls\u001b[39m\u001b[38;5;241m.\u001b[39mRIGHT)\n\u001b[0;32m---> 56\u001b[0m     \u001b[38;5;28;01mreturn\u001b[39;00m \u001b[43mfunction\u001b[49m\u001b[43m(\u001b[49m\u001b[43mmodel\u001b[49m\u001b[43m,\u001b[49m\u001b[43m \u001b[49m\u001b[38;5;241;43m*\u001b[39;49m\u001b[43margs\u001b[49m\u001b[43m,\u001b[49m\u001b[43m \u001b[49m\u001b[38;5;241;43m*\u001b[39;49m\u001b[38;5;241;43m*\u001b[39;49m\u001b[43mkwargs\u001b[49m\u001b[43m)\u001b[49m\n",
      "File \u001b[0;32m~/.conda/envs/conch/lib/python3.10/site-packages/lifelines/fitters/kaplan_meier_fitter.py:127\u001b[0m, in \u001b[0;36mKaplanMeierFitter.fit\u001b[0;34m(self, durations, event_observed, timeline, entry, label, alpha, ci_labels, weights, fit_options)\u001b[0m\n\u001b[1;32m     80\u001b[0m \u001b[38;5;129m@CensoringType\u001b[39m\u001b[38;5;241m.\u001b[39mright_censoring\n\u001b[1;32m     81\u001b[0m \u001b[38;5;28;01mdef\u001b[39;00m \u001b[38;5;21mfit\u001b[39m(\n\u001b[1;32m     82\u001b[0m     \u001b[38;5;28mself\u001b[39m,\n\u001b[0;32m   (...)\u001b[0m\n\u001b[1;32m     91\u001b[0m     fit_options\u001b[38;5;241m=\u001b[39m\u001b[38;5;28;01mNone\u001b[39;00m,\n\u001b[1;32m     92\u001b[0m ):  \u001b[38;5;66;03m# pylint: disable=too-many-arguments,too-many-locals\u001b[39;00m\n\u001b[1;32m     93\u001b[0m \u001b[38;5;250m    \u001b[39m\u001b[38;5;124;03m\"\"\"\u001b[39;00m\n\u001b[1;32m     94\u001b[0m \u001b[38;5;124;03m    Fit the model to a right-censored dataset\u001b[39;00m\n\u001b[1;32m     95\u001b[0m \n\u001b[0;32m   (...)\u001b[0m\n\u001b[1;32m    124\u001b[0m \n\u001b[1;32m    125\u001b[0m \u001b[38;5;124;03m    \"\"\"\u001b[39;00m\n\u001b[0;32m--> 127\u001b[0m     \u001b[38;5;28;01mreturn\u001b[39;00m \u001b[38;5;28;43mself\u001b[39;49m\u001b[38;5;241;43m.\u001b[39;49m\u001b[43m_fit\u001b[49m\u001b[43m(\u001b[49m\u001b[43mdurations\u001b[49m\u001b[43m,\u001b[49m\u001b[43m \u001b[49m\u001b[43mevent_observed\u001b[49m\u001b[43m,\u001b[49m\u001b[43m \u001b[49m\u001b[43mtimeline\u001b[49m\u001b[43m,\u001b[49m\u001b[43m \u001b[49m\u001b[43mentry\u001b[49m\u001b[43m,\u001b[49m\u001b[43m \u001b[49m\u001b[43mlabel\u001b[49m\u001b[43m,\u001b[49m\u001b[43m \u001b[49m\u001b[43malpha\u001b[49m\u001b[43m,\u001b[49m\u001b[43m \u001b[49m\u001b[43mci_labels\u001b[49m\u001b[43m,\u001b[49m\u001b[43m \u001b[49m\u001b[43mweights\u001b[49m\u001b[43m)\u001b[49m\n",
      "File \u001b[0;32m~/.conda/envs/conch/lib/python3.10/site-packages/lifelines/fitters/kaplan_meier_fitter.py:361\u001b[0m, in \u001b[0;36mKaplanMeierFitter._fit\u001b[0;34m(self, durations, event_observed, timeline, entry, label, alpha, ci_labels, weights)\u001b[0m\n\u001b[1;32m    351\u001b[0m primary_estimate_name \u001b[38;5;241m=\u001b[39m \u001b[38;5;124m\"\u001b[39m\u001b[38;5;124msurvival_function_\u001b[39m\u001b[38;5;124m\"\u001b[39m\n\u001b[1;32m    352\u001b[0m secondary_estimate_name \u001b[38;5;241m=\u001b[39m \u001b[38;5;124m\"\u001b[39m\u001b[38;5;124mcumulative_density_\u001b[39m\u001b[38;5;124m\"\u001b[39m\n\u001b[1;32m    354\u001b[0m (\n\u001b[1;32m    355\u001b[0m     \u001b[38;5;28mself\u001b[39m\u001b[38;5;241m.\u001b[39mdurations,\n\u001b[1;32m    356\u001b[0m     \u001b[38;5;28mself\u001b[39m\u001b[38;5;241m.\u001b[39mevent_observed,\n\u001b[1;32m    357\u001b[0m     \u001b[38;5;28mself\u001b[39m\u001b[38;5;241m.\u001b[39mtimeline,\n\u001b[1;32m    358\u001b[0m     \u001b[38;5;28mself\u001b[39m\u001b[38;5;241m.\u001b[39mentry,\n\u001b[1;32m    359\u001b[0m     \u001b[38;5;28mself\u001b[39m\u001b[38;5;241m.\u001b[39mevent_table,\n\u001b[1;32m    360\u001b[0m     \u001b[38;5;28mself\u001b[39m\u001b[38;5;241m.\u001b[39mweights,\n\u001b[0;32m--> 361\u001b[0m ) \u001b[38;5;241m=\u001b[39m \u001b[43m_preprocess_inputs\u001b[49m\u001b[43m(\u001b[49m\u001b[43mdurations\u001b[49m\u001b[43m,\u001b[49m\u001b[43m \u001b[49m\u001b[43mevent_observed\u001b[49m\u001b[43m,\u001b[49m\u001b[43m \u001b[49m\u001b[43mtimeline\u001b[49m\u001b[43m,\u001b[49m\u001b[43m \u001b[49m\u001b[43mentry\u001b[49m\u001b[43m,\u001b[49m\u001b[43m \u001b[49m\u001b[43mweights\u001b[49m\u001b[43m)\u001b[49m\n\u001b[1;32m    363\u001b[0m alpha \u001b[38;5;241m=\u001b[39m alpha \u001b[38;5;28;01mif\u001b[39;00m alpha \u001b[38;5;28;01melse\u001b[39;00m \u001b[38;5;28mself\u001b[39m\u001b[38;5;241m.\u001b[39malpha\n\u001b[1;32m    364\u001b[0m log_estimate, cumulative_sq_ \u001b[38;5;241m=\u001b[39m _additive_estimate(\n\u001b[1;32m    365\u001b[0m     \u001b[38;5;28mself\u001b[39m\u001b[38;5;241m.\u001b[39mevent_table, \u001b[38;5;28mself\u001b[39m\u001b[38;5;241m.\u001b[39mtimeline, \u001b[38;5;28mself\u001b[39m\u001b[38;5;241m.\u001b[39m_additive_f, \u001b[38;5;28mself\u001b[39m\u001b[38;5;241m.\u001b[39m_additive_var, is_left_censoring\n\u001b[1;32m    366\u001b[0m )\n",
      "File \u001b[0;32m~/.conda/envs/conch/lib/python3.10/site-packages/lifelines/utils/__init__.py:904\u001b[0m, in \u001b[0;36m_preprocess_inputs\u001b[0;34m(durations, event_observed, timeline, entry, weights)\u001b[0m\n\u001b[1;32m    899\u001b[0m \u001b[38;5;250m\u001b[39m\u001b[38;5;124;03m\"\"\"\u001b[39;00m\n\u001b[1;32m    900\u001b[0m \u001b[38;5;124;03mCleans and confirms input to what lifelines expects downstream\u001b[39;00m\n\u001b[1;32m    901\u001b[0m \u001b[38;5;124;03m\"\"\"\u001b[39;00m\n\u001b[1;32m    903\u001b[0m n \u001b[38;5;241m=\u001b[39m \u001b[38;5;28mlen\u001b[39m(durations)\n\u001b[0;32m--> 904\u001b[0m durations \u001b[38;5;241m=\u001b[39m np\u001b[38;5;241m.\u001b[39masarray(\u001b[43mpass_for_numeric_dtypes_or_raise_array\u001b[49m\u001b[43m(\u001b[49m\u001b[43mdurations\u001b[49m\u001b[43m)\u001b[49m)\u001b[38;5;241m.\u001b[39mreshape((n,))\n\u001b[1;32m    906\u001b[0m \u001b[38;5;28;01mif\u001b[39;00m weights \u001b[38;5;129;01mis\u001b[39;00m \u001b[38;5;28;01mNone\u001b[39;00m:\n\u001b[1;32m    907\u001b[0m     weights \u001b[38;5;241m=\u001b[39m np\u001b[38;5;241m.\u001b[39mones_like(durations)\n",
      "File \u001b[0;32m~/.conda/envs/conch/lib/python3.10/site-packages/lifelines/utils/__init__.py:968\u001b[0m, in \u001b[0;36mpass_for_numeric_dtypes_or_raise_array\u001b[0;34m(x)\u001b[0m\n\u001b[1;32m    965\u001b[0m     \u001b[38;5;28;01mreturn\u001b[39;00m v\n\u001b[1;32m    967\u001b[0m \u001b[38;5;28;01mexcept\u001b[39;00m:\n\u001b[0;32m--> 968\u001b[0m     \u001b[38;5;28;01mraise\u001b[39;00m \u001b[38;5;167;01mValueError\u001b[39;00m(\u001b[38;5;124m\"\u001b[39m\u001b[38;5;124mValues must be numeric: no strings, datetimes, objects, etc.\u001b[39m\u001b[38;5;124m\"\u001b[39m)\n",
      "\u001b[0;31mValueError\u001b[0m: Values must be numeric: no strings, datetimes, objects, etc."
     ]
    },
    {
     "data": {
      "image/png": "[encoded data removed]",
      "text/plain": [
       "<Figure size 640x480 with 1 Axes>"
      ]
     },
     "metadata": {},
     "output_type": "display_data"
    }
   ],
   "source": [
    "\n",
    "ax = plt.subplot(111)\n",
    "kmf = KaplanMeierFitter()\n",
    "kmf.fit(list(L/12), event_observed = list(LC), label = 'Low Risk')\n",
    "kmf.plot(ax = ax,ci_show=False,color='blue')\n",
    "kmf = KaplanMeierFitter()\n",
    "kmf.fit(list(H/12), event_observed = list(HC), label = 'High Risk')\n",
    "kmf.plot(ax = ax,ci_show=False,color='red')\n",
    "plt.title('SNN P-value: 0.006303')\n",
    "plt.xlabel(\"Years\")\n",
    "plt.ylabel(\"Proportion Surviving\")\n",
    "plt.xlim(0, 12)"
   ]
  },
  {
   "cell_type": "code",
   "execution_count": 123,
   "metadata": {},
   "outputs": [],
   "source": [
    "XX=logrank_test(L,H,LC,HC)"
   ]
  },
  {
   "cell_type": "code",
   "execution_count": 175,
   "metadata": {},
   "outputs": [
    {
     "data": {
      "text/plain": [
       "0.0007551063384592162"
      ]
     },
     "execution_count": 175,
     "metadata": {},
     "output_type": "execute_result"
    }
   ],
   "source": [
    "XX=logrank_test(L,H,LC,HC)\n",
    "XX.p_value"
   ]
  },
  {
   "cell_type": "code",
   "execution_count": 176,
   "metadata": {},
   "outputs": [
    {
     "data": {
      "text/html": [
       "<div>\n",
       "<style scoped>\n",
       "    .dataframe tbody tr th:only-of-type {\n",
       "        vertical-align: middle;\n",
       "    }\n",
       "\n",
       "    .dataframe tbody tr th {\n",
       "        vertical-align: top;\n",
       "    }\n",
       "\n",
       "    .dataframe thead th {\n",
       "        text-align: right;\n",
       "    }\n",
       "</style>\n",
       "<table border=\"1\" class=\"dataframe\">\n",
       "  <tbody>\n",
       "    <tr>\n",
       "      <th>t_0</th>\n",
       "      <td>-1</td>\n",
       "    </tr>\n",
       "    <tr>\n",
       "      <th>null_distribution</th>\n",
       "      <td>chi squared</td>\n",
       "    </tr>\n",
       "    <tr>\n",
       "      <th>degrees_of_freedom</th>\n",
       "      <td>1</td>\n",
       "    </tr>\n",
       "    <tr>\n",
       "      <th>test_name</th>\n",
       "      <td>logrank_test</td>\n",
       "    </tr>\n",
       "  </tbody>\n",
       "</table>\n",
       "</div><table border=\"1\" class=\"dataframe\">\n",
       "  <thead>\n",
       "    <tr style=\"text-align: right;\">\n",
       "      <th></th>\n",
       "      <th>test_statistic</th>\n",
       "      <th>p</th>\n",
       "      <th>-log2(p)</th>\n",
       "    </tr>\n",
       "  </thead>\n",
       "  <tbody>\n",
       "    <tr>\n",
       "      <th>0</th>\n",
       "      <td>11.35</td>\n",
       "      <td>&lt;0.005</td>\n",
       "      <td>10.37</td>\n",
       "    </tr>\n",
       "  </tbody>\n",
       "</table>"
      ],
      "text/latex": [
       "\\begin{tabular}{lrrr}\n",
       " & test_statistic & p & -log2(p) \\\\\n",
       "0 & 11.35 & 0.00 & 10.37 \\\\\n",
       "\\end{tabular}\n"
      ],
      "text/plain": [
       "<lifelines.StatisticalResult: logrank_test>\n",
       "               t_0 = -1\n",
       " null_distribution = chi squared\n",
       "degrees_of_freedom = 1\n",
       "         test_name = logrank_test\n",
       "\n",
       "---\n",
       " test_statistic      p  -log2(p)\n",
       "          11.35 <0.005     10.37"
      ]
     },
     "execution_count": 176,
     "metadata": {},
     "output_type": "execute_result"
    }
   ],
   "source": [
    "XX"
   ]
  },
  {
   "cell_type": "code",
   "execution_count": null,
   "metadata": {},
   "outputs": [],
   "source": []
  }
 ],
 "metadata": {
  "kernelspec": {
   "display_name": "conch",
   "language": "python",
   "name": "python3"
  },
  "language_info": {
   "codemirror_mode": {
    "name": "ipython",
    "version": 3
   },
   "file_extension": ".py",
   "mimetype": "text/x-python",
   "name": "python",
   "nbconvert_exporter": "python",
   "pygments_lexer": "ipython3",
   "version": "3.7.16"
  }
 },
 "nbformat": 4,
 "nbformat_minor": 2
}
